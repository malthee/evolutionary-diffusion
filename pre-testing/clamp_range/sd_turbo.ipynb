{
 "cells": [
  {
   "cell_type": "markdown",
   "source": [
    "# SD-Turbo: Finding a reasonable CLAMP range for exploring the prompt embedding space\n",
    "Using the diverse parti prompts v2 (1,6k entries) to explore the range of values for prompt embeddings. "
   ],
   "metadata": {
    "collapsed": false
   },
   "id": "7889ddecfcb57765"
  },
  {
   "cell_type": "code",
   "execution_count": 1,
   "outputs": [],
   "source": [
    "from evolutionary.prompt_encoding.image_creation import SDPromptEmbeddingImageCreator\n",
    "from evolutionary.prompt_encoding.utils import clamp_range_from_parti\n",
    "from model_helpers.auto_pipeline import auto_diffusion_pipeline"
   ],
   "metadata": {
    "collapsed": false,
    "ExecuteTime": {
     "end_time": "2024-02-22T14:39:05.860065Z",
     "start_time": "2024-02-22T14:39:04.016861Z"
    }
   },
   "id": "c18d4cb96ff196ec"
  },
  {
   "cell_type": "code",
   "execution_count": 2,
   "outputs": [],
   "source": [
    "def setup_pipeline():\n",
    "    pipe = auto_diffusion_pipeline(\"stabilityai/sd-turbo\")\n",
    "    pipe.set_progress_bar_config(disable=True)\n",
    "    return pipe"
   ],
   "metadata": {
    "collapsed": false,
    "ExecuteTime": {
     "end_time": "2024-02-22T14:39:06.705882Z",
     "start_time": "2024-02-22T14:39:06.702630Z"
    }
   },
   "id": "bd6a00facc2aa847"
  },
  {
   "cell_type": "code",
   "execution_count": 3,
   "id": "initial_id",
   "metadata": {
    "collapsed": true,
    "ExecuteTime": {
     "end_time": "2024-02-22T14:40:01.534466Z",
     "start_time": "2024-02-22T14:39:10.355696Z"
    }
   },
   "outputs": [
    {
     "data": {
      "text/plain": "Loading pipeline components...:   0%|          | 0/5 [00:00<?, ?it/s]",
      "application/vnd.jupyter.widget-view+json": {
       "version_major": 2,
       "version_minor": 0,
       "model_id": "b1ff30d8a32946ec906d3972dcca4976"
      }
     },
     "metadata": {},
     "output_type": "display_data"
    },
    {
     "name": "stdout",
     "output_type": "stream",
     "text": [
      "Loaded StableDiffusionPipeline {\n",
      "  \"_class_name\": \"StableDiffusionPipeline\",\n",
      "  \"_diffusers_version\": \"0.25.0\",\n",
      "  \"_name_or_path\": \"stabilityai/sd-turbo\",\n",
      "  \"feature_extractor\": [\n",
      "    null,\n",
      "    null\n",
      "  ],\n",
      "  \"image_encoder\": [\n",
      "    null,\n",
      "    null\n",
      "  ],\n",
      "  \"requires_safety_checker\": false,\n",
      "  \"safety_checker\": [\n",
      "    null,\n",
      "    null\n",
      "  ],\n",
      "  \"scheduler\": [\n",
      "    \"diffusers\",\n",
      "    \"EulerDiscreteScheduler\"\n",
      "  ],\n",
      "  \"text_encoder\": [\n",
      "    \"transformers\",\n",
      "    \"CLIPTextModel\"\n",
      "  ],\n",
      "  \"tokenizer\": [\n",
      "    \"transformers\",\n",
      "    \"CLIPTokenizer\"\n",
      "  ],\n",
      "  \"unet\": [\n",
      "    \"diffusers\",\n",
      "    \"UNet2DConditionModel\"\n",
      "  ],\n",
      "  \"vae\": [\n",
      "    \"diffusers\",\n",
      "    \"AutoencoderKL\"\n",
      "  ]\n",
      "}\n"
     ]
    },
    {
     "name": "stderr",
     "output_type": "stream",
     "text": [
      "Token indices sequence length is longer than the specified maximum sequence length for this model (84 > 77). Running this sequence through the model will result in indexing errors\n"
     ]
    },
    {
     "name": "stdout",
     "output_type": "stream",
     "text": [
      "The following part of your input was truncated because CLIP can only handle sequences up to 77 tokens: ['as a beacon over rolling blue hills']\n",
      "Range for prompt_embeds:  (-10.234375, 15.6484375)\n"
     ]
    }
   ],
   "source": [
    "creator = SDPromptEmbeddingImageCreator(pipeline_factory=setup_pipeline, batch_size=1, inference_steps=1)\n",
    "test1 = clamp_range_from_parti(creator, lambda_accessor=lambda x: x.prompt_embeds)\n",
    "print(\"Range for prompt_embeds: \", test1)"
   ]
  },
  {
   "cell_type": "markdown",
   "source": [
    "For the SD-Turbo model the CLAMP range for prompt_embeds is around (-10.3, 15.65).\n",
    "Keep in mind you can extend the values, but this restricts the search space to a reasonable range."
   ],
   "metadata": {
    "collapsed": false
   },
   "id": "7be8abc13dabcfcb"
  }
 ],
 "metadata": {
  "kernelspec": {
   "display_name": "Python 3",
   "language": "python",
   "name": "python3"
  },
  "language_info": {
   "codemirror_mode": {
    "name": "ipython",
    "version": 2
   },
   "file_extension": ".py",
   "mimetype": "text/x-python",
   "name": "python",
   "nbconvert_exporter": "python",
   "pygments_lexer": "ipython2",
   "version": "2.7.6"
  }
 },
 "nbformat": 4,
 "nbformat_minor": 5
}
