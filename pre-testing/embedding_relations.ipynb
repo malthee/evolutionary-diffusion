{
 "cells": [
  {
   "cell_type": "markdown",
   "source": "# SDXL-Turbo: Visualizing the embedding space with Parti Prompts V2 using TensorBoard Projector",
   "metadata": {
    "collapsed": false
   },
   "id": "7889ddecfcb57765"
  },
  {
   "metadata": {
    "collapsed": false
   },
   "cell_type": "code",
   "source": [
    "import torch\n",
    "from evolutionary_prompt_embedding.image_creation import SDXLPromptEmbeddingImageCreator\n",
    "from datasets import load_dataset"
   ],
   "id": "c18d4cb96ff196ec",
   "outputs": [],
   "execution_count": null
  },
  {
   "metadata": {
    "collapsed": false
   },
   "cell_type": "code",
   "source": "creator = SDXLPromptEmbeddingImageCreator(batch_size=1, inference_steps=1)",
   "id": "bd6a00facc2aa847",
   "outputs": [],
   "execution_count": null
  },
  {
   "cell_type": "markdown",
   "source": [
    "## Using the embedding projector\n",
    "Online Version: https://projector.tensorflow.org/"
   ],
   "metadata": {
    "collapsed": false
   },
   "id": "b0bbee7a3546cb98"
  },
  {
   "metadata": {},
   "cell_type": "code",
   "source": [
    "from datasets import load_dataset\n",
    "from typing import List\n",
    "from evolutionary_prompt_embedding.argument_types import PooledPromptEmbedData\n",
    "\n",
    "# Load dataset and extract prompts and categories.\n",
    "prompts_dataset = load_dataset(\"nateraw/parti-prompts\")\n",
    "prompts = prompts_dataset[\"train\"][\"Prompt\"]\n",
    "categories = prompts_dataset[\"train\"][\"Category\"]\n",
    "embeddings = [creator.arguments_from_prompt(p) for p in prompts]\n",
    "\n",
    "testlength = 3500 # See how many embeddings are supported (2GB Limit is around 3k for all types)\n",
    "# Repeat the lists until they reach the desired length\n",
    "prompts = (prompts * (testlength // len(prompts) + 1))[:testlength]\n",
    "categories = (categories * (testlength // len(categories) + 1))[:testlength]\n",
    "embeddings = (embeddings * (testlength // len(embeddings) + 1))[:testlength]"
   ],
   "id": "ebc4a83f42ec664",
   "outputs": [],
   "execution_count": null
  },
  {
   "metadata": {},
   "cell_type": "code",
   "source": [
    "from evolutionary_prompt_embedding.tensorboard_embed_visualizer import TensorboardEmbedVisualizer, EmbeddingVariant\n",
    "\n",
    "visualizer = TensorboardEmbedVisualizer[PooledPromptEmbedData, List[str]]([\"Prompt\", \"Category\"], \"vis\")\n",
    "visualizer.add_embeddings(\n",
    "    ((emb, [p, c]) for emb, p, c in zip(embeddings, prompts, categories))\n",
    ")\n",
    "visualizer.generate_visualization(\n",
    "    sprite_single_image_dim=(64, 64),\n",
    ")"
   ],
   "id": "e201ebde08fb1e78",
   "outputs": [],
   "execution_count": null
  },
  {
   "metadata": {},
   "cell_type": "code",
   "source": "!tensorboard --logdir=vis",
   "id": "25d43ff534ed73db",
   "outputs": [],
   "execution_count": null
  },
  {
   "metadata": {},
   "cell_type": "markdown",
   "source": "## Pre-Stages of the Visualizer:",
   "id": "8340c5b8ef627494"
  },
  {
   "metadata": {},
   "cell_type": "code",
   "source": [
    "import os\n",
    "import torch\n",
    "import tensorflow as tf\n",
    "from datasets import load_dataset\n",
    "from tensorboard.plugins import projector\n",
    "\n",
    "# Load dataset and extract prompts and categories.\n",
    "prompts_dataset = load_dataset(\"nateraw/parti-prompts\")\n",
    "prompts = prompts_dataset[\"train\"][\"Prompt\"]\n",
    "categories = prompts_dataset[\"train\"][\"Category\"]\n",
    "\n",
    "# Generate embeddings using your creator function.\n",
    "embeddings = [creator.arguments_from_prompt(p) for p in prompts]\n",
    "prompt_embeddings = [e.prompt_embeds for e in embeddings]\n",
    "pooled_prompt_embeddings = [e.pooled_prompt_embeds for e in embeddings]"
   ],
   "id": "3d159335b3374f84",
   "outputs": [],
   "execution_count": null
  },
  {
   "metadata": {},
   "cell_type": "code",
   "source": [
    "# Create four variants:\n",
    "# 1. Normal: Flatten token embeddings.\n",
    "# 2. Pooled: Flatten pooled embeddings.\n",
    "# 3. Combined Average: Average token embeddings → [1,2048] then concat with pooled ([1,1280]) → [1,3328]\n",
    "# 4. Combined Append: Flatten token embeddings then append flattened pooled embedding.\n",
    "normal_variant, pooled_variant = [], []\n",
    "combined_avg_variant, combined_append_variant = [], []\n",
    "\n",
    "for p_embed, pooled_embed in zip(prompt_embeddings, pooled_prompt_embeddings):\n",
    "    normal_flat = p_embed.flatten()             # [77*2048]\n",
    "    pooled_flat = pooled_embed.flatten()          # [1280]\n",
    "    avg_token = p_embed.mean(dim=1)               # [1,2048]\n",
    "    combined_avg = torch.cat([avg_token, pooled_embed], dim=-1).flatten()  # [3328]\n",
    "    combined_append = torch.cat([normal_flat, pooled_flat], dim=0)         # [77*2048 + 1280]\n",
    "\n",
    "    normal_variant.append(normal_flat)\n",
    "    pooled_variant.append(pooled_flat)\n",
    "    combined_avg_variant.append(combined_avg)\n",
    "    combined_append_variant.append(combined_append)\n",
    "\n",
    "normal_tensor = torch.stack(normal_variant, dim=0)\n",
    "pooled_tensor = torch.stack(pooled_variant, dim=0)\n",
    "combined_avg_tensor = torch.stack(combined_avg_variant, dim=0)\n",
    "combined_append_tensor = torch.stack(combined_append_variant, dim=0)"
   ],
   "id": "8f5fa28fa0fc8f49",
   "outputs": [],
   "execution_count": null
  },
  {
   "metadata": {},
   "cell_type": "code",
   "source": [
    "# Convert to NumPy array and create TensorFlow variable for each embedding variant\n",
    "embedding_normal_tf = tf.Variable(normal_tensor.cpu().numpy(), name=\"embedding_normal\")\n",
    "embedding_pooled_tf = tf.Variable(pooled_tensor.cpu().numpy(), name=\"embedding_pooled\")\n",
    "embedding_combined_avg_tf = tf.Variable(combined_avg_tensor.cpu().numpy(), name=\"embedding_combined_avg\")\n",
    "embedding_combined_append_tf = tf.Variable(combined_append_tensor.cpu().numpy(), name=\"embedding_combined_append\")"
   ],
   "id": "88a1660cb0bab2c3",
   "outputs": [],
   "execution_count": null
  },
  {
   "metadata": {},
   "cell_type": "code",
   "source": [
    "# Set up output folder.\n",
    "output_folder = \"vis\"\n",
    "os.makedirs(output_folder, exist_ok=True)\n",
    "\n",
    "# Save a checkpoint containing all embeddings.\n",
    "checkpoint = tf.train.Checkpoint(\n",
    "    embedding_normal=embedding_normal_tf,\n",
    "    embedding_pooled=embedding_pooled_tf,\n",
    "    embedding_combined_avg=embedding_combined_avg_tf,\n",
    "    embedding_combined_append=embedding_combined_append_tf\n",
    ")\n",
    "checkpoint_path = os.path.join(output_folder, \"embedding.ckpt\")\n",
    "checkpoint.save(checkpoint_path)\n",
    "\n",
    "# Save metadata.\n",
    "metadata_file = os.path.join(output_folder, \"metadata.tsv\")\n",
    "with open(metadata_file, \"w\") as f_meta:\n",
    "    f_meta.write(\"Prompt\\tCategory\\n\")\n",
    "    for prompt, category in zip(prompts, categories):\n",
    "        safe_prompt = str(prompt).replace(\"\\t\", \" \").replace(\"\\n\", \" \")\n",
    "        safe_category = str(category).replace(\"\\t\", \" \").replace(\"\\n\", \" \")\n",
    "        f_meta.write(f\"{safe_prompt}\\t{safe_category}\\n\")\n",
    "\n",
    "# Set up projector config with four embeddings.\n",
    "config = projector.ProjectorConfig()\n",
    "\n",
    "emb_conf = config.embeddings.add()\n",
    "emb_conf.tensor_name = \"embedding_normal/.ATTRIBUTES/VARIABLE_VALUE\"\n",
    "emb_conf.metadata_path = \"metadata.tsv\"\n",
    "emb_conf.sprite.image_path = \"sprite.png\"\n",
    "emb_conf.sprite.single_image_dim.extend([30, 30])\n",
    "\n",
    "emb_conf = config.embeddings.add()\n",
    "emb_conf.tensor_name = \"embedding_pooled/.ATTRIBUTES/VARIABLE_VALUE\"\n",
    "emb_conf.metadata_path = \"metadata.tsv\"\n",
    "emb_conf.sprite.image_path = \"sprite.png\"\n",
    "emb_conf.sprite.single_image_dim.extend([30, 30])\n",
    "\n",
    "emb_conf = config.embeddings.add()\n",
    "emb_conf.tensor_name = \"embedding_combined_avg/.ATTRIBUTES/VARIABLE_VALUE\"\n",
    "emb_conf.metadata_path = \"metadata.tsv\"\n",
    "emb_conf.sprite.image_path = \"sprite.png\"\n",
    "emb_conf.sprite.single_image_dim.extend([30, 30])\n",
    "\n",
    "emb_conf = config.embeddings.add()\n",
    "emb_conf.tensor_name = \"embedding_combined_append/.ATTRIBUTES/VARIABLE_VALUE\"\n",
    "emb_conf.metadata_path = \"metadata.tsv\"\n",
    "emb_conf.sprite.image_path = \"sprite.png\"\n",
    "emb_conf.sprite.single_image_dim.extend([30, 30])\n",
    "\n",
    "projector.visualize_embeddings(output_folder, config)\n",
    "print(\"Checkpoint and projector config saved in\", output_folder)\n",
    "print(\"Run 'tensorboard --logdir={}' to visualize your embeddings.\".format(output_folder))"
   ],
   "id": "ae76243f50185a9e",
   "outputs": [],
   "execution_count": null
  },
  {
   "metadata": {},
   "cell_type": "code",
   "source": "%load_ext tensorboard",
   "id": "ae7ceaa0bc2daa7e",
   "outputs": [],
   "execution_count": null
  },
  {
   "metadata": {},
   "cell_type": "code",
   "source": "%tensorboard --logdir=vis",
   "id": "54d6bfb7e98fba77",
   "outputs": [],
   "execution_count": null
  },
  {
   "metadata": {},
   "cell_type": "code",
   "source": [
    "# Convenience function to kill the tensorboard process\n",
    "!kill XXXX"
   ],
   "id": "111d59bad5e01709",
   "outputs": [],
   "execution_count": null
  },
  {
   "metadata": {},
   "cell_type": "code",
   "source": "",
   "id": "fb1021a58c668432",
   "outputs": [],
   "execution_count": null
  }
 ],
 "metadata": {
  "kernelspec": {
   "display_name": "Python 3",
   "language": "python",
   "name": "python3"
  },
  "language_info": {
   "codemirror_mode": {
    "name": "ipython",
    "version": 2
   },
   "file_extension": ".py",
   "mimetype": "text/x-python",
   "name": "python",
   "nbconvert_exporter": "python",
   "pygments_lexer": "ipython2",
   "version": "2.7.6"
  }
 },
 "nbformat": 4,
 "nbformat_minor": 5
}
