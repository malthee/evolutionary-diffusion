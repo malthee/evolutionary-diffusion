{
 "cells": [
  {
   "cell_type": "markdown",
   "id": "8c0bdb332e586951",
   "metadata": {
    "collapsed": false
   },
   "source": [
    "# Template Notebook for NSGA II Multi-Objective-Optimization exploring the Prompt Embedding Space\n",
    "Notebook Version: 0.7.0 (07/07/2025)\n",
    "* update pip install to include imaging"
   ]
  },
  {
   "cell_type": "markdown",
   "id": "e8d329337a9a6ae4",
   "metadata": {
    "collapsed": false
   },
   "source": [
    "## Google Colab Setup"
   ]
  },
  {
   "cell_type": "code",
   "execution_count": null,
   "id": "e29d72d1cf8f831b",
   "metadata": {
    "collapsed": false
   },
   "outputs": [],
   "source": [
    "# Google Colab: Execute this to install packages and setup drive\n",
    "# May need to restart the runtime after this step.\n",
    "# May replace imaging with sound if you want to use the sound subpackage.\n",
    "!pip install \"evolutionary[prompt_embedding,imaging] @ git+https://git@github.com/malthee/evolutionary-diffusion.git\""
   ]
  },
  {
   "cell_type": "code",
   "execution_count": null,
   "id": "9823a776d3aa5811",
   "metadata": {
    "collapsed": false
   },
   "outputs": [],
   "source": [
    "# Mount drive to save results\n",
    "from google.colab import drive\n",
    "import evolutionary_imaging.processing as ip\n",
    "import evolutionary_prompt_embedding.tensorboard_embed_visualizer as ev\n",
    "drive.mount(\"/content/drive\")\n",
    "base_path = \"/content/drive/MyDrive/evolutionary/\"\n",
    "ip.RESULTS_FOLDER = base_path + ip.RESULTS_FOLDER\n",
    "ev.DEFAULT_OUTPUT_FOLDER = base_path + \"vis\"\n",
    "save_run_path = base_path + \"saved_runs\""
   ]
  },
  {
   "cell_type": "code",
   "execution_count": null,
   "id": "fce51ef77417054c",
   "metadata": {
    "collapsed": false
   },
   "outputs": [],
   "source": [
    "# Check if GPU is available\n",
    "import torch\n",
    "print(torch.cuda.is_available())"
   ]
  },
  {
   "cell_type": "markdown",
   "id": "68639543cb9a264",
   "metadata": {
    "collapsed": false
   },
   "source": [
    "## Project Setup"
   ]
  },
  {
   "cell_type": "code",
   "execution_count": null,
   "id": "60dbb3fefb89efd7",
   "metadata": {
    "collapsed": false
   },
   "outputs": [],
   "source": [
    "from evolutionary.plotting import plot_fitness_statistics, plot_time_statistics\n",
    "import evolutionary_imaging.processing as ip\n",
    "from diffusers.utils import logging\n",
    "from evolutionary_imaging.processing import create_animation_from_generations, create_generation_radar_chart_grid, save_images_from_generation\n",
    "import torch\n",
    "import os"
   ]
  },
  {
   "cell_type": "code",
   "execution_count": null,
   "id": "d41ebb7614cac219",
   "metadata": {
    "collapsed": false
   },
   "outputs": [],
   "source": [
    "logging.disable_progress_bar() # Or else your output will be full of progress bars\n",
    "logging.set_verbosity_error() # Enable again if you are having problems\n",
    "os.environ[\"TOKENIZERS_PARALLELISM\"] = \"false\" # To remove warning of libraries using tokenizers\n",
    "# Change the results folder for images and embedding visualization if you want to\n",
    "# ip.RESULTS_FOLDER = \"choose_your_destination\"\n",
    "# ev.DEFAULT_OUTPUT_FOLDER = \"choose_your_destination\"\n",
    "# save_run_path = \"saved_runs\"\n",
    "use_visualizer = True # Set to False if you don't want to use the TensorboardEmbedVisualizer\n",
    "save_images = True # Set to False if you don't want to save images\n",
    "print(torch.random.get_rng_state()) # Check torch random state, used across all libraries. Caution setting fixed seeds as it affects not only generation but also variation."
   ]
  },
  {
   "cell_type": "code",
   "execution_count": null,
   "id": "initial_id",
   "metadata": {
    "collapsed": true
   },
   "outputs": [],
   "source": [
    "from evolutionary_prompt_embedding.tensorboard_embed_visualizer import TensorboardEmbedVisualizer\n",
    "from evolutionary_prompt_embedding.argument_types import PooledPromptEmbedData\n",
    "from evolutionary_prompt_embedding.image_creation import SDXLPromptEmbeddingImageCreator\n",
    "from evolutionary_prompt_embedding.variation import PooledArithmeticCrossover, PooledUniformGaussianMutator, UniformGaussianMutatorArguments\n",
    "from evolutionary.evolutionary_selectors import TournamentSelector\n",
    "from evolutionary.algorithms.nsga_ii import NSGA_II, NSGATournamentSelector\n",
    "from evolutionary_imaging.evaluators import AestheticsImageEvaluator, CLIPScoreEvaluator, MultiCLIPIQAEvaluator, \\\n",
    "    SingleCLIPIQAEvaluator\n",
    "from evolutionary.evaluators import MultiObjectiveEvaluator\n",
    "from evolutionary_prompt_embedding.value_ranges import SDXLTurboEmbeddingRange, SDXLTurboPooledEmbeddingRange\n",
    "\n",
    "visualizer = TensorboardEmbedVisualizer[PooledPromptEmbedData, [str, str, str]]([\"Index\", \"Generation\", \"Fitness\"]) # Could add more to split fitnesses\n",
    "\n",
    "def post_sort_callback(g, a):\n",
    "    image_paths = None\n",
    "    if save_images:\n",
    "        image_paths = save_images_from_generation(a.population, g)\n",
    "    if use_visualizer:\n",
    "        for i, s in enumerate(a.population):\n",
    "            fitness_val = s.fitness if not isinstance(s.fitness, list) else sum(s.fitness)/len(s.fitness)\n",
    "            visualizer.add_embedding(s.arguments, [str(i), str(g), f\"{fitness_val:.3f}\"], image_paths[i] if image_paths else None)\n",
    "\n",
    "population_size = 50\n",
    "num_generations = 50\n",
    "batch_size = 1\n",
    "elitism = 1\n",
    "inference_steps = 4\n",
    "metrics = (\"scary\", \"beautiful\", \"quality\")\n",
    "\n",
    "embedding_range = SDXLTurboEmbeddingRange()\n",
    "pooled_embedding_range = SDXLTurboPooledEmbeddingRange()\n",
    "creator = SDXLPromptEmbeddingImageCreator(batch_size=batch_size, inference_steps=inference_steps)\n",
    "evaluator = MultiCLIPIQAEvaluator(metrics=metrics)\n",
    "crossover = PooledArithmeticCrossover(interpolation_weight=0.5, interpolation_weight_pooled=0.5)\n",
    "mutation_arguments = UniformGaussianMutatorArguments(mutation_rate=0.1, mutation_strength=2, \n",
    "                                                     clamp_range=(embedding_range.minimum, embedding_range.maximum)) \n",
    "mutation_arguments_pooled = UniformGaussianMutatorArguments(mutation_rate=0.1, mutation_strength=0.4, \n",
    "                                                            clamp_range=(pooled_embedding_range.minimum, pooled_embedding_range.maximum))\n",
    "mutator = PooledUniformGaussianMutator(mutation_arguments, mutation_arguments_pooled)\n",
    "selector = NSGATournamentSelector()\n",
    "\n",
    "# Prepare initial arguments\n",
    "#init_embed = creator.arguments_from_prompt(prompt) # with prompt\n",
    "#init_args = [init_embed for _ in range(population_size)]\n",
    "init_args = [PooledPromptEmbedData(embedding_range.random_tensor_in_range(), pooled_embedding_range.random_tensor_in_range()) \n",
    "             for _ in range(population_size)] # Random embeddings\n",
    "\n",
    "nsga = NSGA_II(\n",
    "    num_generations=num_generations,\n",
    "    population_size=population_size,\n",
    "    solution_creator=creator,\n",
    "    selector=selector,\n",
    "    crossover=crossover,\n",
    "    mutator=mutator,\n",
    "    evaluator=evaluator,\n",
    "    elitism_count=elitism,\n",
    "    initial_arguments=init_args,\n",
    "    post_non_dominated_sort_callback=post_sort_callback\n",
    ")"
   ]
  },
  {
   "cell_type": "code",
   "execution_count": null,
   "id": "935da12fdef0f9e6",
   "metadata": {
    "collapsed": false
   },
   "outputs": [],
   "source": [
    "best_solution = nsga.run()"
   ]
  },
  {
   "cell_type": "code",
   "execution_count": null,
   "id": "138e75cca37887ee",
   "metadata": {
    "collapsed": false
   },
   "outputs": [],
   "source": [
    "from diffusers.utils import make_image_grid\n",
    "\n",
    "# Show best solution\n",
    "print(best_solution.fitness)\n",
    "make_image_grid(best_solution.result.images, 1, batch_size)"
   ]
  },
  {
   "cell_type": "markdown",
   "id": "925f16c0145e4fa",
   "metadata": {},
   "source": [
    "## Visualize Embeddings with the Tensorboard Embedding Projector"
   ]
  },
  {
   "cell_type": "code",
   "execution_count": null,
   "id": "4914a2d48f1f0db3",
   "metadata": {},
   "outputs": [],
   "source": [
    "# This will save the embeddings and the metadata to your disk\n",
    "visualizer.generate_visualization(\n",
    "    sprite_single_image_dim=(80, 80),\n",
    "    #filter_predicate=lambda e, l, i: int(l[0]) < 30 # When too large, use this as a filter\n",
    ")"
   ]
  },
  {
   "cell_type": "code",
   "execution_count": null,
   "id": "b503917ecea7d97b",
   "metadata": {},
   "outputs": [],
   "source": [
    "%load_ext tensorboard\n",
    "%tensorboard --logdir={visualizer.output_folder}"
   ]
  },
  {
   "cell_type": "markdown",
   "id": "24ec401b70d26330",
   "metadata": {
    "collapsed": false
   },
   "source": [
    "## Create a video from the generational progress showing the top images"
   ]
  },
  {
   "cell_type": "code",
   "execution_count": null,
   "id": "654d29c0a9adc5ea",
   "metadata": {
    "collapsed": false
   },
   "outputs": [],
   "source": [
    "for gen in range(nsga.completed_generations):\n",
    "    create_generation_radar_chart_grid(gen, tuple(m if isinstance(m, str) else m[0] for m in metrics), \n",
    "                                       max_images=4, \n",
    "                                       label_padding=12,\n",
    "                                       max_value=1.0 # Depends on the objectives set above\n",
    "                                       )"
   ]
  },
  {
   "cell_type": "code",
   "execution_count": null,
   "id": "c0bc3e27bc037fc5",
   "metadata": {
    "collapsed": false
   },
   "outputs": [],
   "source": [
    "video_loc = create_animation_from_generations(nsga.completed_generations)\n",
    "print(video_loc)"
   ]
  },
  {
   "cell_type": "markdown",
   "id": "e7710ea6363c8fc2",
   "metadata": {
    "collapsed": false
   },
   "source": [
    "## Plot fitness statistics (Separately)"
   ]
  },
  {
   "cell_type": "code",
   "execution_count": null,
   "id": "98f5e3002eb65464",
   "metadata": {
    "collapsed": false
   },
   "outputs": [],
   "source": [
    "stats = nsga.statistics"
   ]
  },
  {
   "cell_type": "code",
   "execution_count": null,
   "id": "28353cd43d9b4f6b",
   "metadata": {
    "collapsed": false
   },
   "outputs": [],
   "source": [
    "plot_fitness_statistics(nsga.completed_generations, stats.best_fitness, stats.worst_fitness, stats.avg_fitness, title=metrics[0], multi_objective_plot_index=0)"
   ]
  },
  {
   "cell_type": "code",
   "execution_count": null,
   "id": "197e58947071ce5c",
   "metadata": {
    "collapsed": false
   },
   "outputs": [],
   "source": [
    "plot_fitness_statistics(nsga.completed_generations, stats.best_fitness, stats.worst_fitness, stats.avg_fitness, title=metrics[1], multi_objective_plot_index=1)"
   ]
  },
  {
   "cell_type": "markdown",
   "id": "949a40bcaf7d7eb0",
   "metadata": {
    "collapsed": false
   },
   "source": [
    "## Plot fitness statistics (Together)"
   ]
  },
  {
   "cell_type": "code",
   "execution_count": null,
   "id": "beba837db8b28580",
   "metadata": {
    "collapsed": false
   },
   "outputs": [],
   "source": [
    "plot_fitness_statistics(nsga.completed_generations, avg_fitness=stats.best_fitness, labels=[m if isinstance(m, str) else \" \".join(m) for m in metrics])"
   ]
  },
  {
   "cell_type": "code",
   "execution_count": null,
   "id": "17931dcf2a52e58",
   "metadata": {
    "collapsed": false
   },
   "outputs": [],
   "source": [
    "plot_fitness_statistics(nsga.completed_generations, avg_fitness=stats.avg_fitness, labels=[m if isinstance(m, str) else \" \".join(m) for m in metrics])"
   ]
  },
  {
   "cell_type": "markdown",
   "id": "1aca49691ae715ba",
   "metadata": {
    "collapsed": false
   },
   "source": [
    "## Plot time statistics"
   ]
  },
  {
   "cell_type": "code",
   "execution_count": null,
   "id": "543b1cd4ac41ef01",
   "metadata": {
    "collapsed": false
   },
   "outputs": [],
   "source": [
    "plot_time_statistics(stats.evaluation_time, stats.creation_time)"
   ]
  },
  {
   "cell_type": "markdown",
   "id": "23627b477ddc013",
   "metadata": {
    "collapsed": false
   },
   "source": [
    "## Save notebook and components"
   ]
  },
  {
   "cell_type": "code",
   "execution_count": null,
   "id": "8c70fcaec676f371",
   "metadata": {
    "collapsed": false
   },
   "outputs": [],
   "source": [
    "!jupyter nbconvert --to html nsga_notebook.ipynb"
   ]
  },
  {
   "cell_type": "markdown",
   "id": "b79517ef419ec4b8",
   "metadata": {
    "collapsed": false
   },
   "source": [
    "### Save the run to disk"
   ]
  },
  {
   "cell_type": "code",
   "execution_count": null,
   "id": "31db5e3d88e6b32",
   "metadata": {
    "collapsed": false
   },
   "outputs": [],
   "source": [
    "import pickle\n",
    "import os\n",
    "from datetime import datetime\n",
    "\n",
    "os.makedirs(\"saved_runs\", exist_ok=True)\n",
    "output_file = os.path.join(\"saved_runs\", f\"nsga_iqa_v0_7_{datetime.now().strftime('%Y-%m-%d_%H-%M-%S')}.pkl\")\n",
    "with open(output_file, \"wb\") as f:\n",
    "    pickle.dump(nsga, f)\n",
    "print(f\"Run saved to {output_file}\")"
   ]
  },
  {
   "cell_type": "markdown",
   "id": "cc7d188d1100fe4",
   "metadata": {
    "collapsed": false
   },
   "source": [
    "### Load the run from disk \n",
    "Notebook and library versions should match with the saved run"
   ]
  },
  {
   "cell_type": "code",
   "execution_count": null,
   "id": "593c3ce4d909254",
   "metadata": {
    "collapsed": false
   },
   "outputs": [],
   "source": [
    "import pickle\n",
    "import os\n",
    "\n",
    "with open(os.path.join(\"saved_runs\", \"insert_filename\"), \"rb\") as f:\n",
    "    nsga = pickle.load(f)"
   ]
  },
  {
   "cell_type": "markdown",
   "id": "4550d830b1b47e1a",
   "metadata": {
    "collapsed": false
   },
   "source": [
    "## Fallback functions for when something went wrong"
   ]
  },
  {
   "cell_type": "markdown",
   "id": "6a9063073a48997c",
   "metadata": {
    "collapsed": false
   },
   "source": [
    "### Access Best Solution from Disk"
   ]
  },
  {
   "cell_type": "code",
   "execution_count": null,
   "id": "5f775720f03f3e5a",
   "metadata": {
    "collapsed": false
   },
   "outputs": [],
   "source": [
    "import os\n",
    "import glob\n",
    "import evolutionary_imaging.processing as ip\n",
    "from PIL import Image\n",
    "\n",
    "num_generations = nsga.completed_generations  # Set this to the number of generations you ran (if you didn't finish)\n",
    "generation_dir = os.path.join(\"results\", f\"{num_generations}\")\n",
    "image_files = glob.glob(os.path.join(generation_dir, \"*.png\"))\n",
    "image_files.sort(key=ip.fitness_filename_sorting_key, reverse=True)\n",
    "print(image_files[0])\n",
    "Image.open(image_files[0])"
   ]
  },
  {
   "cell_type": "markdown",
   "id": "2b003d9c4275cfca",
   "metadata": {
    "collapsed": false
   },
   "source": [
    "### ffmpeg is not installed, create GIF instead"
   ]
  },
  {
   "cell_type": "code",
   "execution_count": null,
   "id": "63df46f328facfc9",
   "metadata": {
    "collapsed": false
   },
   "outputs": [],
   "source": [
    "from evolutionary_imaging.processing import create_animation_from_generations_pil\n",
    "video_loc = create_animation_from_generations_pil(num_generations)\n",
    "print(video_loc)"
   ]
  }
 ],
 "metadata": {
  "kernelspec": {
   "display_name": "Python 3",
   "language": "python",
   "name": "python3"
  },
  "language_info": {
   "codemirror_mode": {
    "name": "ipython",
    "version": 2
   },
   "file_extension": ".py",
   "mimetype": "text/x-python",
   "name": "python",
   "nbconvert_exporter": "python",
   "pygments_lexer": "ipython2",
   "version": "2.7.6"
  }
 },
 "nbformat": 4,
 "nbformat_minor": 5
}
