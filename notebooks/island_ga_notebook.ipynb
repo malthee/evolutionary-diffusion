{
 "cells": [
  {
   "cell_type": "markdown",
   "source": [
    "# Template Notebook for using an Island Model GA with Style Evolution on Islands\n",
    "Notebook Version: 0.5 (27/03/2024)\n",
    "* update to new evolutionary library, changes to GA, plotting statistics"
   ],
   "metadata": {
    "collapsed": false
   },
   "id": "8c0bdb332e586951"
  },
  {
   "cell_type": "markdown",
   "source": [
    "## Google Colab Setup"
   ],
   "metadata": {
    "collapsed": false
   },
   "id": "7951256adc75dd6b"
  },
  {
   "cell_type": "code",
   "execution_count": null,
   "outputs": [],
   "source": [
    "# Google Colab: Execute this to install packages and setup drive\n",
    "!pip install \"evolutionary[all] @ git+https://git@github.com/malthee/evolutionary-diffusion.git\""
   ],
   "metadata": {
    "collapsed": false
   },
   "id": "70d5bde37fd9b5d3"
  },
  {
   "cell_type": "code",
   "execution_count": null,
   "outputs": [],
   "source": [
    "# Mount drive to save results\n",
    "from google.colab import drive\n",
    "import evolutionary_imaging.processing as ip\n",
    "drive.mount(\"/content/drive\")\n",
    "base_path = \"/content/drive/MyDrive/evolutionary/\"\n",
    "ip.RESULTS_FOLDER = base_path + ip.RESULTS_FOLDER"
   ],
   "metadata": {
    "collapsed": false
   },
   "id": "b407fd7db4d20e37"
  },
  {
   "cell_type": "code",
   "execution_count": null,
   "outputs": [],
   "source": [
    "# Check if GPU is available\n",
    "import torch\n",
    "print(torch.cuda.is_available())"
   ],
   "metadata": {
    "collapsed": false
   },
   "id": "dd15039ac09f2d77"
  },
  {
   "cell_type": "markdown",
   "source": [
    "## Project Setup"
   ],
   "metadata": {
    "collapsed": false
   },
   "id": "93564491cac9c57d"
  },
  {
   "cell_type": "code",
   "execution_count": null,
   "outputs": [],
   "source": [
    "from evolutionary.plotting import plot_fitness_statistics, plot_time_statistics\n",
    "import evolutionary_imaging.processing as ip\n",
    "from diffusers.utils import logging\n",
    "from evolutionary_imaging.processing import create_animation_from_generations, create_generation_image_grid, save_images_from_generation\n",
    "import torch\n",
    "import os"
   ],
   "metadata": {
    "collapsed": false
   },
   "id": "bec91dcfcd6297e2"
  },
  {
   "cell_type": "code",
   "execution_count": null,
   "outputs": [],
   "source": [
    "logging.disable_progress_bar() # Or else your output will be full of progress bars\n",
    "logging.set_verbosity_error() # Enable again if you are having problems\n",
    "os.environ[\"TOKENIZERS_PARALLELISM\"] = \"false\" # To remove warning of libraries using tokenizers\n",
    "# Change the results folder for images if you want to \n",
    "# ip.RESULTS_FOLDER = 'choose_your_destination'\n",
    "\n",
    "class SaveImagesPostEvaluation:  # Class to save images and difference between islands; used to allow pickling\n",
    "    def __init__(self, ident):\n",
    "        self.ident = ident\n",
    "\n",
    "    def __call__(self, g, a):\n",
    "        return save_images_from_generation(a.population, g, self.ident)\n",
    "\n",
    "# Check torch random state, used across all libraries. Caution setting fixed seeds as it affects not only generation but also variation.\n",
    "print(torch.random.get_rng_state())"
   ],
   "metadata": {
    "collapsed": false
   },
   "id": "176a6b162c07b30b"
  },
  {
   "cell_type": "code",
   "execution_count": null,
   "id": "initial_id",
   "metadata": {
    "collapsed": true
   },
   "outputs": [],
   "source": [
    "from evolutionary_prompt_embedding.argument_types import PooledPromptEmbedData\n",
    "from evolutionary_prompt_embedding.image_creation import SDXLPromptEmbeddingImageCreator\n",
    "from evolutionary_prompt_embedding.variation import \\\n",
    "    UniformGaussianMutatorArguments, PooledUniformGaussianMutator, PooledArithmeticCrossover, PooledUniformCrossover\n",
    "from evolutionary_prompt_embedding.value_ranges import SDXLTurboEmbeddingRange, SDXLTurboPooledEmbeddingRange\n",
    "from evolutionary.evolutionary_selectors import TournamentSelector, RouletteWheelSelector, RankSelector\n",
    "from evolutionary.evaluators import CappedEvaluator, GoalDiminishingEvaluator, MultiObjectiveEvaluator\n",
    "from evolutionary.algorithms.island_model import IslandModel\n",
    "from evolutionary.algorithms.ga import GeneticAlgorithm\n",
    "from evolutionary.algorithms.nsga_ii import NSGA_II, NSGATournamentSelector\n",
    "from evolutionary_imaging.evaluators import AIDetectionImageEvaluator, AestheticsImageEvaluator, SingleCLIPIQAEvaluator\n",
    "\n",
    "population_size = 10\n",
    "num_generations = 100\n",
    "batch_size = 1\n",
    "elitism = None\n",
    "inference_steps = 4\n",
    "crossover_rate = 0.9\n",
    "mutation_rate = 0.3\n",
    "\n",
    "art_epochs = [\n",
    "    \"Prehistoric Art\",  # c. 40,000 BCE - 4,000 BCE\n",
    "    \"Ancient Egyptian Art\",  # c. 3,100 BCE - 332 BCE\n",
    "    \"Classical Greek Art\",  # c. 480 BCE - 323 BCE\n",
    "    \"Roman Art\",  # c. 500 BCE - 476 CE\n",
    "    \"Byzantine Art\",  # c. 330 CE - 1453 CE\n",
    "    \"Islamic Art\",  # c. 7th Century - Present\n",
    "    \"Romanesque Art\",  # c. 1000 CE - 1200 CE\n",
    "    \"Gothic Art\",  # c. 12th Century - 16th Century\n",
    "    \"Renaissance Art\",  # c. 14th Century - 17th Century\n",
    "    \"Baroque Art\",  # c. 1600 CE - 1750 CE\n",
    "    \"Neoclassicism\",  # c. 18th Century - Early 19th Century\n",
    "    \"Romanticism\",  # c. Late 18th Century - Mid 19th Century\n",
    "    \"Realism\",  # c. Mid 19th Century\n",
    "    \"Impressionism\",  # c. 1860s - 1880s\n",
    "    \"Modernism\",  # Late 19th Century - 1970s\n",
    "    \"Contemporary Art\"  # Post-1945 - Present\n",
    "]\n",
    "\n",
    "embedding_range = SDXLTurboEmbeddingRange()\n",
    "pooled_embedding_range = SDXLTurboPooledEmbeddingRange()\n",
    "\n",
    "creator = SDXLPromptEmbeddingImageCreator(batch_size=batch_size, inference_steps=inference_steps)\n",
    "# Above this score the AestheticsImageEvaluator is biased to specific styles, use it more as quality control and leave it open \n",
    "evaluator = AestheticsImageEvaluator()\n",
    "crossover = PooledArithmeticCrossover(interpolation_weight=0.8, interpolation_weight_pooled=0.8) # Try keeping original style more \n",
    "mutation_arguments = UniformGaussianMutatorArguments(mutation_rate=0.05, mutation_strength=1.5, \n",
    "                                                     clamp_range=(embedding_range.minimum, embedding_range.maximum)) \n",
    "mutation_arguments_pooled = UniformGaussianMutatorArguments(mutation_rate=0.05, mutation_strength=0.4, \n",
    "                                                            clamp_range=(pooled_embedding_range.minimum, pooled_embedding_range.maximum))\n",
    "mutator = PooledUniformGaussianMutator(mutation_arguments, mutation_arguments_pooled)\n",
    "selector = RouletteWheelSelector()\n",
    "\n",
    "ga_instances = []\n",
    "\n",
    "init_crossover = PooledArithmeticCrossover(interpolation_weight=0.8, interpolation_weight_pooled=0.8)\n",
    "for i, epoch in enumerate(art_epochs):\n",
    "    artist_arg = creator.arguments_from_prompt(f\"in {epoch} style\") \n",
    "    init_args = [init_crossover.crossover(artist_arg,  # Combine the artist with a random image, weighted towards the artist\n",
    "                                          PooledPromptEmbedData(embedding_range.random_tensor_in_range(), pooled_embedding_range.random_tensor_in_range())) \n",
    "                 for _ in range(population_size)]\n",
    "    save_images_post_evaluation = SaveImagesPostEvaluation(i)\n",
    " \n",
    "    ga_instances.append(GeneticAlgorithm(\n",
    "        population_size=population_size,\n",
    "        num_generations=num_generations,\n",
    "        solution_creator=creator,\n",
    "        evaluator=evaluator,\n",
    "        mutator=mutator,\n",
    "        crossover=crossover,\n",
    "        selector=selector,\n",
    "        initial_arguments=init_args,\n",
    "        crossover_rate=crossover_rate,\n",
    "        mutation_rate=mutation_rate,\n",
    "        elitism_count=elitism,\n",
    "        post_evaluation_callback=save_images_post_evaluation,\n",
    "    ))"
   ]
  },
  {
   "cell_type": "code",
   "execution_count": null,
   "outputs": [],
   "source": [
    "island_model = IslandModel(\n",
    "    ga_instances,\n",
    "    migration_size=5,\n",
    "    migration_interval=5,\n",
    ")"
   ],
   "metadata": {
    "collapsed": false
   },
   "id": "1e2256a4cf30a88a"
  },
  {
   "cell_type": "code",
   "execution_count": null,
   "outputs": [],
   "source": [
    "best_solutions = island_model.run()"
   ],
   "metadata": {
    "collapsed": false
   },
   "id": "935da12fdef0f9e6"
  },
  {
   "cell_type": "code",
   "execution_count": null,
   "outputs": [],
   "source": [
    "from diffusers.utils import make_image_grid\n",
    "\n",
    "# Show best solution\n",
    "for i, best_solution in enumerate(best_solutions):\n",
    "    print(f\"Best solution for epoch {art_epochs[i]}: {best_solution.fitness}\")\n",
    "\n",
    "make_image_grid([image for solution in best_solutions for image in solution.result.images], 4, batch_size * len(best_solutions) // 4)"
   ],
   "metadata": {
    "collapsed": false
   },
   "id": "138e75cca37887ee"
  },
  {
   "cell_type": "markdown",
   "source": [
    "## Visualize the evolution"
   ],
   "metadata": {
    "collapsed": false
   },
   "id": "24ec401b70d26330"
  },
  {
   "cell_type": "code",
   "execution_count": null,
   "outputs": [],
   "source": [
    "for gen in range(num_generations):\n",
    "    create_generation_image_grid(gen, images_per_row=4, max_images=16, label_fontsize=10, ident_mapper=art_epochs, group_by_ident=True)"
   ],
   "metadata": {
    "collapsed": false
   },
   "id": "654d29c0a9adc5ea"
  },
  {
   "cell_type": "code",
   "execution_count": null,
   "outputs": [],
   "source": [
    "video_loc = create_animation_from_generations(num_generations)\n",
    "print(video_loc)"
   ],
   "metadata": {
    "collapsed": false
   },
   "id": "c0bc3e27bc037fc5"
  },
  {
   "cell_type": "markdown",
   "source": [
    "## Plot statistics"
   ],
   "metadata": {
    "collapsed": false
   },
   "id": "e7710ea6363c8fc2"
  },
  {
   "cell_type": "code",
   "execution_count": null,
   "outputs": [],
   "source": [
    "stats = island_model.statistics\n",
    "plot_fitness_statistics(num_generations, stats.best_fitness, stats.worst_fitness, stats.avg_fitness)"
   ],
   "metadata": {
    "collapsed": false
   },
   "id": "28353cd43d9b4f6b"
  },
  {
   "cell_type": "code",
   "execution_count": null,
   "outputs": [],
   "source": [
    "plot_time_statistics(stats.evaluation_time, stats.creation_time)"
   ],
   "metadata": {
    "collapsed": false
   },
   "id": "bcc8f01eabfcf056"
  },
  {
   "cell_type": "markdown",
   "source": [
    "### Save the run to disk"
   ],
   "metadata": {
    "collapsed": false
   },
   "id": "1a0f4fb91ee79569"
  },
  {
   "cell_type": "code",
   "execution_count": null,
   "outputs": [],
   "source": [
    "import pickle\n",
    "import os\n",
    "from datetime import datetime\n",
    "\n",
    "os.makedirs(\"saved_runs\", exist_ok=True)\n",
    "output_file = os.path.join(\"saved_runs\", f\"island_model_goodepochs{datetime.now().strftime('%Y-%m-%d_%H-%M-%S')}.pkl\")\n",
    "with open(output_file, \"wb\") as f:\n",
    "    pickle.dump(island_model, f)\n",
    "print(f\"Run saved to {output_file}\")\n",
    "    "
   ],
   "metadata": {
    "collapsed": false
   },
   "id": "c3e2e39f5fca76da"
  },
  {
   "cell_type": "markdown",
   "source": [
    "### Load the run from disk \n",
    "Notebook and library versions should match with the saved run"
   ],
   "metadata": {
    "collapsed": false
   },
   "id": "90e1117acb713a12"
  },
  {
   "cell_type": "code",
   "execution_count": null,
   "outputs": [],
   "source": [
    "import pickle\n",
    "import os\n",
    "\n",
    "with open(os.path.join(\"saved_runs\", \"insert_filename.pkl\"), \"rb\") as f:\n",
    "    island_model = pickle.load(f)"
   ],
   "metadata": {
    "collapsed": false
   },
   "id": "d5fd533c22309504"
  },
  {
   "cell_type": "markdown",
   "source": [
    "## Fallback functions for when something went wrong"
   ],
   "metadata": {
    "collapsed": false
   },
   "id": "4550d830b1b47e1a"
  },
  {
   "cell_type": "markdown",
   "source": [
    "### Access Best Solution from Disk"
   ],
   "metadata": {
    "collapsed": false
   },
   "id": "6a9063073a48997c"
  },
  {
   "cell_type": "code",
   "execution_count": null,
   "outputs": [],
   "source": [
    "import os\n",
    "import glob\n",
    "import evolutionary_imaging.processing as ip\n",
    "from PIL import Image\n",
    "\n",
    "num_generations = 22  # Set this to the number of generations you ran (if you didn't finish)\n",
    "generation_dir = os.path.join(ip.RESULTS_FOLDER, f\"{num_generations}\")\n",
    "image_files = glob.glob(os.path.join(generation_dir, \"*.png\"))\n",
    "image_files.sort(key=ip.fitness_filename_sorting_key, reverse=True)\n",
    "print(image_files[0])\n",
    "Image.open(image_files[0])"
   ],
   "metadata": {
    "collapsed": false
   },
   "id": "5f775720f03f3e5a"
  },
  {
   "cell_type": "markdown",
   "source": [
    "### ffmpeg is not installed, create GIF instead"
   ],
   "metadata": {
    "collapsed": false
   },
   "id": "2b003d9c4275cfca"
  },
  {
   "cell_type": "code",
   "execution_count": null,
   "outputs": [],
   "source": [
    "from evolutionary_imaging.processing import create_animation_from_generations_pil\n",
    "video_loc = create_animation_from_generations_pil(num_generations)\n",
    "print(video_loc)"
   ],
   "metadata": {
    "collapsed": false
   },
   "id": "63df46f328facfc9"
  }
 ],
 "metadata": {
  "kernelspec": {
   "display_name": "Python 3",
   "language": "python",
   "name": "python3"
  },
  "language_info": {
   "codemirror_mode": {
    "name": "ipython",
    "version": 2
   },
   "file_extension": ".py",
   "mimetype": "text/x-python",
   "name": "python",
   "nbconvert_exporter": "python",
   "pygments_lexer": "ipython2",
   "version": "2.7.6"
  }
 },
 "nbformat": 4,
 "nbformat_minor": 5
}
