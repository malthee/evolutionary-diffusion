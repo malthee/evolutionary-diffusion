{
 "cells": [
  {
   "cell_type": "markdown",
   "source": [
    "# Template Notebook for testing an Island Model GA with Artists/Styles on an island\n",
    "Notebook Version: 0.41 (26/03/2024)\n",
    "* can now visualize best solution in grid by identifier"
   ],
   "metadata": {
    "collapsed": false
   },
   "id": "8c0bdb332e586951"
  },
  {
   "cell_type": "markdown",
   "source": [
    "## Google Colab Setup"
   ],
   "metadata": {
    "collapsed": false
   },
   "id": "7951256adc75dd6b"
  },
  {
   "cell_type": "code",
   "execution_count": null,
   "outputs": [],
   "source": [
    "# Google Colab: Execute this to install packages and setup drive\n",
    "!pip install \"evolutionary[all] @ git+https://git@github.com/malthee/evolutionary-diffusion.git\""
   ],
   "metadata": {
    "collapsed": false
   },
   "id": "70d5bde37fd9b5d3"
  },
  {
   "cell_type": "code",
   "execution_count": null,
   "outputs": [],
   "source": [
    "# Mount drive to save results\n",
    "from google.colab import drive\n",
    "import evolutionary_imaging.processing as ip\n",
    "drive.mount(\"/content/drive\")\n",
    "base_path = \"/content/drive/MyDrive/evolutionary/\"\n",
    "ip.RESULTS_FOLDER = base_path + ip.RESULTS_FOLDER"
   ],
   "metadata": {
    "collapsed": false
   },
   "id": "b407fd7db4d20e37"
  },
  {
   "cell_type": "code",
   "execution_count": null,
   "outputs": [],
   "source": [
    "# Check if GPU is available\n",
    "import torch\n",
    "print(torch.cuda.is_available())"
   ],
   "metadata": {
    "collapsed": false
   },
   "id": "dd15039ac09f2d77"
  },
  {
   "cell_type": "markdown",
   "source": [
    "## Project Setup"
   ],
   "metadata": {
    "collapsed": false
   },
   "id": "93564491cac9c57d"
  },
  {
   "cell_type": "code",
   "execution_count": null,
   "outputs": [],
   "source": [
    "from evolutionary.plotting import plot_fitness_statistics\n",
    "import evolutionary_imaging.processing as ip\n",
    "from diffusers.utils import logging\n",
    "from evolutionary_imaging.processing import create_animation_from_generations, create_generation_image_grid, save_images_from_generation\n",
    "import torch\n",
    "import os"
   ],
   "metadata": {
    "collapsed": false
   },
   "id": "bec91dcfcd6297e2"
  },
  {
   "cell_type": "code",
   "execution_count": null,
   "outputs": [],
   "source": [
    "logging.disable_progress_bar() # Or else your output will be full of progress bars\n",
    "logging.set_verbosity_error() # Enable again if you are having problems\n",
    "os.environ[\"TOKENIZERS_PARALLELISM\"] = \"false\" # To remove warning of libraries using tokenizers\n",
    "# Change the results folder for images if you want to \n",
    "# ip.RESULTS_FOLDER = 'choose_your_destination'\n",
    "\n",
    "class SaveImagesPostEvaluation:  # Class to save images and difference between islands; used to allow pickling\n",
    "    def __init__(self, ident):\n",
    "        self.ident = ident\n",
    "\n",
    "    def __call__(self, g, a):\n",
    "        return save_images_from_generation(a.population, g, self.ident)\n",
    "\n",
    "# Check torch random state, used across all libraries. Caution setting fixed seeds as it affects not only generation but also variation.\n",
    "print(torch.random.get_rng_state())"
   ],
   "metadata": {
    "collapsed": false
   },
   "id": "176a6b162c07b30b"
  },
  {
   "cell_type": "code",
   "execution_count": null,
   "id": "initial_id",
   "metadata": {
    "collapsed": true
   },
   "outputs": [],
   "source": [
    "from evolutionary_prompt_embedding.argument_types import PooledPromptEmbedData\n",
    "from evolutionary_prompt_embedding.image_creation import SDXLPromptEmbeddingImageCreator\n",
    "from evolutionary_prompt_embedding.variation import \\\n",
    "    UniformGaussianMutatorArguments, PooledUniformGaussianMutator, PooledArithmeticCrossover, PooledUniformCrossover\n",
    "from evolutionary_prompt_embedding.value_ranges import SDXLTurboEmbeddingRange, SDXLTurboPooledEmbeddingRange\n",
    "from evolutionary.evolutionary_selectors import TournamentSelector, RouletteWheelSelector, RankSelector\n",
    "from evolutionary.evolution_base import CappedEvaluator, GoalDiminishingEvaluator\n",
    "from evolutionary.algorithms.island_model import IslandModel\n",
    "from evolutionary.algorithms.ga import GeneticAlgorithm\n",
    "from evolutionary_imaging.evaluators import AIDetectionImageEvaluator, AestheticsImageEvaluator\n",
    "\n",
    "population_size = 20\n",
    "num_generations = 5\n",
    "batch_size = 1\n",
    "elitism = None\n",
    "inference_steps = 4\n",
    "\n",
    "epochs = [\n",
    "    \"Prehistoric to Ancient Civilizations Art\",\n",
    "    \"Classical Antiquity to Early Medieval Art\",\n",
    "    \"Renaissance to Mannerism\",\n",
    "    \"Baroque to Rococo\",\n",
    "    \"Neoclassicism to Romanticism\",\n",
    "    \"Realism to Post-Impressionism\",\n",
    "    \"Modern Art\",\n",
    "    \"Contemporary and Postmodern Art\"\n",
    "]\n",
    "\n",
    "visual_arts_by_epoch = [\n",
    "    [\n",
    "        \"Lascaux Cave Paintings\",\n",
    "        \"Venus of Willendorf\",\n",
    "        \"Terracotta Army\",\n",
    "        \"Great Sphinx of Giza\",\n",
    "        \"Moai Statues of Easter Island\",\n",
    "        \"Aboriginal Rock Art\",\n",
    "        \"Ajanta Caves Frescoes\",\n",
    "        \"Sumerian Statuettes from the Temple of Abu\",\n",
    "        \"Ancient Egyptian Book of the Dead\",\n",
    "        \"Cycladic Figurines\",\n",
    "        \"Buddhist Stupas of Sanchi\",\n",
    "        \"Cave Paintings of Bhimbetka\"\n",
    "    ],\n",
    "    [\n",
    "        \"Parthenon Friezes\",\n",
    "        \"Frescoes of Pompeii\",\n",
    "        \"Buddhist Statues of Bamiyan\",\n",
    "        \"Book of Kells\",\n",
    "        \"Hagia Sophia Mosaics\",\n",
    "        \"Sutton Hoo Ship Burial\",\n",
    "        \"Byzantine Icons of Christ Pantocrator\",\n",
    "        \"Toreutics of the Scythians\",\n",
    "        \"The Colosseum\",\n",
    "        \"Mask of Tutankhamun\",\n",
    "        \"Olmec Colossal Heads\",\n",
    "        \"Terracotta Warriors\"\n",
    "    ],\n",
    "    [\n",
    "        \"Mona Lisa by Leonardo da Vinci\",\n",
    "        \"The School of Athens by Raphael\",\n",
    "        \"The Sistine Chapel Ceiling by Michelangelo\",\n",
    "        \"The Arnolfini Portrait by Jan van Eyck\",\n",
    "        \"Alhambra's Islamic Calligraphy and Tile Work\",\n",
    "        \"Benin Bronzes\",\n",
    "        \"The Birth of Venus by Botticelli\",\n",
    "        \"Kabuki Theater Woodblock Prints\",\n",
    "        \"David by Michelangelo\",\n",
    "        \"Ghent Altarpiece by Jan van Eyck\",\n",
    "        \"The Garden of Earthly Delights by Hieronymus Bosch\",\n",
    "        \"The Tempest by Giorgione\"\n",
    "    ],\n",
    "    [\n",
    "        \"The Night Watch by Rembrandt\",\n",
    "        \"The Ecstasy of Saint Teresa by Bernini\",\n",
    "        \"Las Meninas by Velázquez\",\n",
    "        \"The Swing by Fragonard\",\n",
    "        \"Girl with a Pearl Earring by Vermeer\",\n",
    "        \"Works of Artemisia Gentileschi\",\n",
    "        \"Ukiyo-e Prints by Hokusai\",\n",
    "        \"Palace of Versailles\",\n",
    "        \"St. Paul's Cathedral\",\n",
    "        \"The Embarkation for Cythera by Watteau\",\n",
    "        \"The Death of Sardanapalus by Delacroix\",\n",
    "        \"Self-Portrait with Thorn Necklace and Hummingbird by Frida Kahlo\"\n",
    "    ],\n",
    "    [\n",
    "        \"Liberty Leading the People by Delacroix\",\n",
    "        \"The Third of May 1808 by Goya\",\n",
    "        \"The Death of Socrates by David\",\n",
    "        \"The Raft of the Medusa by Géricault\",\n",
    "        \"The Hay Wain by Constable\",\n",
    "        \"Wanderer above the Sea of Fog by Friedrich\",\n",
    "        \"The Tiger Hunt by Rubens\",\n",
    "        \"The Great Wave off Kanagawa by Hokusai\",\n",
    "        \"Saturn Devouring His Son by Goya\",\n",
    "        \"Oath of the Horatii by David\",\n",
    "        \"The Stone Breakers by Courbet\",\n",
    "        \"American Gothic by Grant Wood\"\n",
    "    ],\n",
    "    [\n",
    "        \"Olympia by Manet\",\n",
    "        \"The Stone Breakers by Courbet\",\n",
    "        \"Starry Night by Van Gogh\",\n",
    "        \"The Scream by Munch\",\n",
    "        \"A Sunday on La Grande Jatte by Seurat\",\n",
    "        \"Tahitian Women on the Beach by Gauguin\",\n",
    "        \"The Burghers of Calais by Rodin\",\n",
    "        \"The Peasant Wedding by Bruegel the Elder\",\n",
    "        \"The Balcony by Manet\",\n",
    "        \"The Kiss by Gustav Klimt\",\n",
    "        \"The Sleeping Gypsy by Henri Rousseau\",\n",
    "        \"The Ladies of Avignon by Picasso\"\n",
    "    ],\n",
    "    [\n",
    "        \"Les Demoiselles d'Avignon by Picasso\",\n",
    "        \"The Persistence of Memory by Dalí\",\n",
    "        \"Composition VIII by Kandinsky\",\n",
    "        \"The Fountain by Duchamp\",\n",
    "        \"American Gothic by Grant Wood\",\n",
    "        \"The Migration Series by Jacob Lawrence\",\n",
    "        \"Guernica by Picasso\",\n",
    "        \"The Two Fridas by Kahlo\",\n",
    "        \"Nighthawks by Edward Hopper\",\n",
    "        \"Broadway Boogie Woogie by Mondrian\",\n",
    "        \"Autumn Rhythm (Number 30) by Jackson Pollock\",\n",
    "        \"Suprematist Composition by Kazimir Malevich\",\n",
    "        \"The Red Studio by Henri Matisse\",\n",
    "        \"Unique Forms of Continuity in Space by Umberto Boccioni\",\n",
    "        \"The Blue Rider by Wassily Kandinsky\"\n",
    "    ],\n",
    "    [\n",
    "        \"Campbell's Soup Cans by Andy Warhol\",\n",
    "        \"The Physical Impossibility of Death in the Mind of Someone Living by Damien Hirst\",\n",
    "        \"Untitled Film Stills by Cindy Sherman\",\n",
    "        \"The Weather Project by Olafur Eliasson\",\n",
    "        \"Vietnam Veterans Memorial by Maya Lin\",\n",
    "        \"Spiral Jetty by Robert Smithson\",\n",
    "        \"A Subtlety by Kara Walker\",\n",
    "        \"The Flower Thrower by Banksy\",\n",
    "        \"Balloon Dog by Jeff Koons\",\n",
    "        \"Shibboleth by Doris Salcedo\",\n",
    "        \"Sunflower Seeds by Ai Weiwei\",\n",
    "        \"The Shark by Damien Hirst\",\n",
    "        \"Rain Room by Random International\",\n",
    "        \"The Basket of Apples by Paul Cézanne\"\n",
    "    ]\n",
    "]\n",
    "\n",
    "# Initialize GA instances\n",
    "embedding_range = SDXLTurboEmbeddingRange()\n",
    "pooled_embedding_range = SDXLTurboPooledEmbeddingRange()\n",
    "# Create the necessary components for the genetic algorithm\n",
    "creator = SDXLPromptEmbeddingImageCreator(batch_size=batch_size, inference_steps=inference_steps)\n",
    "# Above this score the AestheticsImageEvaluator is biased to specific styles, use it more as quality control and leave it open \n",
    "evaluator = GoalDiminishingEvaluator(AestheticsImageEvaluator(), 5.5, 2)\n",
    "crossover = PooledArithmeticCrossover(crossover_rate=0.75, crossover_rate_pooled=0.75) # Keep original styles more\n",
    "mutation_arguments = UniformGaussianMutatorArguments(mutation_rate=0.05, mutation_strength=2.5, \n",
    "                                                     clamp_range=(embedding_range.minimum, embedding_range.maximum)) \n",
    "mutation_arguments_pooled = UniformGaussianMutatorArguments(mutation_rate=0.05, mutation_strength=0.4, \n",
    "                                                            clamp_range=(pooled_embedding_range.minimum, pooled_embedding_range.maximum))\n",
    "mutator = PooledUniformGaussianMutator(mutation_arguments, mutation_arguments_pooled)\n",
    "selector = TournamentSelector(tournament_size=3)\n",
    "\n",
    "ga_instances = []\n",
    "\n",
    "for i, epoch in enumerate(visual_arts_by_epoch):\n",
    "    work_count = len(epoch)\n",
    "    init_args = [creator.arguments_from_prompt(epoch[i % work_count]) for i in range(population_size)] \n",
    "    save_images_post_evaluation = SaveImagesPostEvaluation(i)\n",
    " \n",
    "    # Create and run the genetic algorithm\n",
    "    ga_instances.append(GeneticAlgorithm(\n",
    "        population_size=population_size,\n",
    "        num_generations=num_generations,\n",
    "        solution_creator=creator,\n",
    "        evaluator=evaluator,\n",
    "        mutator=mutator,\n",
    "        crossover=crossover,\n",
    "        selector=selector,\n",
    "        initial_arguments=init_args,\n",
    "        elitism_count=elitism,\n",
    "        post_evaluation_callback=save_images_post_evaluation,\n",
    "    ))"
   ]
  },
  {
   "cell_type": "code",
   "execution_count": null,
   "outputs": [],
   "source": [
    "island_model = IslandModel(\n",
    "    ga_instances,\n",
    "    migration_size=2,\n",
    "    migration_interval=5,\n",
    ")"
   ],
   "metadata": {
    "collapsed": false
   },
   "id": "1e2256a4cf30a88a"
  },
  {
   "cell_type": "code",
   "execution_count": null,
   "outputs": [],
   "source": [
    "best_solutions = island_model.run()"
   ],
   "metadata": {
    "collapsed": false
   },
   "id": "935da12fdef0f9e6"
  },
  {
   "cell_type": "code",
   "execution_count": null,
   "outputs": [],
   "source": [
    "from diffusers.utils import make_image_grid\n",
    "\n",
    "# Show best solution\n",
    "for i, best_solution in enumerate(best_solutions):\n",
    "    print(f\"Best solution for epoch {epochs[i]}: {best_solution.fitness}\")\n",
    "\n",
    "make_image_grid([image for solution in best_solutions for image in solution.result.images], 2, batch_size * len(best_solutions) // 2)"
   ],
   "metadata": {
    "collapsed": false
   },
   "id": "138e75cca37887ee"
  },
  {
   "cell_type": "markdown",
   "source": [
    "## Visualize the evolution"
   ],
   "metadata": {
    "collapsed": false
   },
   "id": "24ec401b70d26330"
  },
  {
   "cell_type": "code",
   "execution_count": null,
   "outputs": [],
   "source": [
    "for gen in range(num_generations):\n",
    "    create_generation_image_grid(gen, max_images=10, label_fontsize=8, ident_mapper=epochs, group_by_ident=True)"
   ],
   "metadata": {
    "collapsed": false
   },
   "id": "654d29c0a9adc5ea"
  },
  {
   "cell_type": "code",
   "execution_count": null,
   "outputs": [],
   "source": [
    "video_loc = create_animation_from_generations(num_generations)\n",
    "print(video_loc)"
   ],
   "metadata": {
    "collapsed": false
   },
   "id": "c0bc3e27bc037fc5"
  },
  {
   "cell_type": "markdown",
   "source": [
    "## Plot fitness statistics"
   ],
   "metadata": {
    "collapsed": false
   },
   "id": "e7710ea6363c8fc2"
  },
  {
   "cell_type": "code",
   "execution_count": null,
   "outputs": [],
   "source": [
    "plot_fitness_statistics(num_generations, island_model.best_fitness, island_model.worst_fitness, island_model.avg_fitness)"
   ],
   "metadata": {
    "collapsed": false
   },
   "id": "28353cd43d9b4f6b"
  },
  {
   "cell_type": "code",
   "execution_count": null,
   "outputs": [],
   "source": [
    "!jupyter nbconvert --to html ga_notebook.ipynb"
   ],
   "metadata": {
    "collapsed": false
   },
   "id": "cb6427ad0fe12f61"
  },
  {
   "cell_type": "markdown",
   "source": [
    "### Save the run to disk"
   ],
   "metadata": {
    "collapsed": false
   },
   "id": "1a0f4fb91ee79569"
  },
  {
   "cell_type": "code",
   "execution_count": null,
   "outputs": [],
   "source": [
    "import pickle\n",
    "import os\n",
    "from datetime import datetime\n",
    "\n",
    "os.makedirs(\"saved_runs\", exist_ok=True)\n",
    "output_file = os.path.join(\"saved_runs\", f\"island_model_{datetime.now().strftime('%Y-%m-%d_%H-%M-%S')}.pkl\")\n",
    "with open(output_file, \"wb\") as f:\n",
    "    pickle.dump(island_model, f)\n",
    "print(f\"Run saved to {output_file}\")\n",
    "    "
   ],
   "metadata": {
    "collapsed": false
   },
   "id": "c3e2e39f5fca76da"
  },
  {
   "cell_type": "markdown",
   "source": [
    "### Load the run from disk \n",
    "Notebook and library versions should match with the saved run"
   ],
   "metadata": {
    "collapsed": false
   },
   "id": "90e1117acb713a12"
  },
  {
   "cell_type": "code",
   "execution_count": null,
   "outputs": [],
   "source": [
    "import pickle\n",
    "import os\n",
    "\n",
    "with open(os.path.join(\"saved_runs\", \"insert_filename.pkl\"), \"rb\") as f:\n",
    "    island_model = pickle.load(f)"
   ],
   "metadata": {
    "collapsed": false
   },
   "id": "d5fd533c22309504"
  },
  {
   "cell_type": "markdown",
   "source": [
    "## Fallback functions for when something went wrong"
   ],
   "metadata": {
    "collapsed": false
   },
   "id": "4550d830b1b47e1a"
  },
  {
   "cell_type": "markdown",
   "source": [
    "### Access Best Solution from Disk"
   ],
   "metadata": {
    "collapsed": false
   },
   "id": "6a9063073a48997c"
  },
  {
   "cell_type": "code",
   "execution_count": null,
   "outputs": [],
   "source": [
    "import os\n",
    "import glob\n",
    "import evolutionary_imaging.processing as ip\n",
    "from PIL import Image\n",
    "\n",
    "num_generations = 22  # Set this to the number of generations you ran (if you didn't finish)\n",
    "generation_dir = os.path.join(ip.RESULTS_FOLDER, f\"{num_generations}\")\n",
    "image_files = glob.glob(os.path.join(generation_dir, \"*.png\"))\n",
    "image_files.sort(key=ip.fitness_filename_sorting_key, reverse=True)\n",
    "print(image_files[0])\n",
    "Image.open(image_files[0])"
   ],
   "metadata": {
    "collapsed": false
   },
   "id": "5f775720f03f3e5a"
  },
  {
   "cell_type": "markdown",
   "source": [
    "### ffmpeg is not installed, create GIF instead"
   ],
   "metadata": {
    "collapsed": false
   },
   "id": "2b003d9c4275cfca"
  },
  {
   "cell_type": "code",
   "execution_count": null,
   "outputs": [],
   "source": [
    "from evolutionary_imaging.processing import create_animation_from_generations_pil\n",
    "video_loc = create_animation_from_generations_pil(num_generations)\n",
    "print(video_loc)"
   ],
   "metadata": {
    "collapsed": false
   },
   "id": "63df46f328facfc9"
  }
 ],
 "metadata": {
  "kernelspec": {
   "display_name": "Python 3",
   "language": "python",
   "name": "python3"
  },
  "language_info": {
   "codemirror_mode": {
    "name": "ipython",
    "version": 2
   },
   "file_extension": ".py",
   "mimetype": "text/x-python",
   "name": "python",
   "nbconvert_exporter": "python",
   "pygments_lexer": "ipython2",
   "version": "2.7.6"
  }
 },
 "nbformat": 4,
 "nbformat_minor": 5
}
