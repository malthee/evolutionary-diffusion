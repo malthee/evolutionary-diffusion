{
 "cells": [
  {
   "cell_type": "code",
   "execution_count": 1,
   "outputs": [],
   "source": [
    "import os\n",
    "import matplotlib.pyplot as plt\n",
    "import matplotlib.image as mpimg\n",
    "import glob\n",
    "import re\n",
    "from typing import List, Any\n",
    "from evolutionary.evolution_base import SolutionCandidate\n",
    "from evolutionary.image_base import ImageSolutionData\n",
    "from evolutionary.plotting import plot_fitness_statistics\n",
    "from diffusers.utils import logging\n",
    "from PIL import Image"
   ],
   "metadata": {
    "collapsed": false,
    "ExecuteTime": {
     "end_time": "2024-01-07T06:35:14.052107Z",
     "start_time": "2024-01-07T06:35:12.445758Z"
    }
   },
   "id": "72e216fd5c2b33c9"
  },
  {
   "cell_type": "code",
   "execution_count": 2,
   "outputs": [],
   "source": [
    "RESULTS_FOLDER = \"results\"\n",
    "\n",
    "# TODO these functions shall be extracted somewhere\n",
    "\n",
    "def save_images_from_generation(population: List[SolutionCandidate[Any, ImageSolutionData]], generation: int):\n",
    "    generation_dir = os.path.join(RESULTS_FOLDER, f\"{generation}\")\n",
    "    os.makedirs(generation_dir, exist_ok=True)\n",
    "\n",
    "    for index, candidate in enumerate(population):\n",
    "        image_solution_data = candidate.result\n",
    "        fitness_str = f\"{candidate.fitness:.3f}\"\n",
    "\n",
    "        for i, image in enumerate(image_solution_data.images):\n",
    "            image_name = f\"{index}_{i}_fitness_{fitness_str}.png\"\n",
    "            image_path = os.path.join(generation_dir, image_name)\n",
    "            image.save(image_path)\n",
    "\n",
    "def parse_fitness_from_filename(filename):\n",
    "    match = re.search(r\"fitness_([0-9\\.]+)\\.png\", filename)\n",
    "    return float(match.group(1)) if match else 0\n",
    "\n",
    "def create_generation_image_grid(generation, images_per_row=5):\n",
    "    generation_dir = os.path.join(RESULTS_FOLDER, f\"{generation}\")\n",
    "    \n",
    "    # Delete plot if already exists, or else will conflict with the plot\n",
    "    output_filepath = os.path.join(generation_dir, f\"grid_{generation}.png\")\n",
    "    if os.path.exists(output_filepath):\n",
    "        os.remove(output_filepath)\n",
    "    \n",
    "    image_files = glob.glob(os.path.join(generation_dir, \"*.png\"))\n",
    "    image_files.sort(key=parse_fitness_from_filename, reverse=True)\n",
    "\n",
    "    nrows = (len(image_files) + images_per_row - 1) // images_per_row\n",
    "    fig, axes = plt.subplots(nrows=nrows, ncols=images_per_row, figsize=(15, 3 * nrows)) \n",
    "\n",
    "    for i, img_file in enumerate(image_files):\n",
    "        ax = axes[i // images_per_row, i % images_per_row] if nrows > 1 else axes[i % images_per_row]\n",
    "        img = mpimg.imread(img_file)\n",
    "        ax.imshow(img)\n",
    "        ax.axis('off')\n",
    "        fitness = parse_fitness_from_filename(img_file)\n",
    "        ax.set_title(f\"{fitness:.3f}\", fontsize=16)  # Fitness score as title\n",
    "\n",
    "    # Turn off unused axes\n",
    "    for ax in axes.flatten()[len(image_files):]:\n",
    "        ax.axis('off')\n",
    "\n",
    "    plt.suptitle(f\"Generation {generation}\", fontsize=20) \n",
    "    plt.tight_layout(pad=1.5)\n",
    "    plt.savefig(output_filepath)\n",
    "    plt.close(fig)\n",
    "    return fig\n",
    "\n",
    "def create_animation_from_generations(num_generations, output_file=os.path.join(RESULTS_FOLDER, \"ga_evolution.gif\"), time_per_frame=1000, time_last_frame=5000):\n",
    "    frames = []\n",
    "    for generation in range(num_generations):\n",
    "        generation_path = os.path.join(RESULTS_FOLDER, f\"{generation}\", f\"grid_{generation}.png\")\n",
    "        frames.append(Image.open(generation_path))\n",
    "        \n",
    "    durations = [time_per_frame] * (len(frames) - 1) + [time_last_frame]\n",
    "    frames[0].save(output_file, save_all=True, append_images=frames[1:], duration=durations, loop=0)"
   ],
   "metadata": {
    "collapsed": false,
    "ExecuteTime": {
     "end_time": "2024-01-07T06:35:14.100218Z",
     "start_time": "2024-01-07T06:35:14.052813Z"
    }
   },
   "id": "cdc14a879bc81db4"
  },
  {
   "cell_type": "code",
   "execution_count": 3,
   "outputs": [
    {
     "name": "stdout",
     "output_type": "stream",
     "text": [
      "Loaded StableDiffusionXLPipeline {\n",
      "  \"_class_name\": \"StableDiffusionXLPipeline\",\n",
      "  \"_diffusers_version\": \"0.25.0\",\n",
      "  \"_name_or_path\": \"stabilityai/sdxl-turbo\",\n",
      "  \"feature_extractor\": [\n",
      "    null,\n",
      "    null\n",
      "  ],\n",
      "  \"force_zeros_for_empty_prompt\": true,\n",
      "  \"image_encoder\": [\n",
      "    null,\n",
      "    null\n",
      "  ],\n",
      "  \"scheduler\": [\n",
      "    \"diffusers\",\n",
      "    \"EulerAncestralDiscreteScheduler\"\n",
      "  ],\n",
      "  \"text_encoder\": [\n",
      "    \"transformers\",\n",
      "    \"CLIPTextModel\"\n",
      "  ],\n",
      "  \"text_encoder_2\": [\n",
      "    \"transformers\",\n",
      "    \"CLIPTextModelWithProjection\"\n",
      "  ],\n",
      "  \"tokenizer\": [\n",
      "    \"transformers\",\n",
      "    \"CLIPTokenizer\"\n",
      "  ],\n",
      "  \"tokenizer_2\": [\n",
      "    \"transformers\",\n",
      "    \"CLIPTokenizer\"\n",
      "  ],\n",
      "  \"unet\": [\n",
      "    \"diffusers\",\n",
      "    \"UNet2DConditionModel\"\n",
      "  ],\n",
      "  \"vae\": [\n",
      "    \"diffusers\",\n",
      "    \"AutoencoderKL\"\n",
      "  ]\n",
      "}\n"
     ]
    }
   ],
   "source": [
    "from model_helpers.auto_pipeline import auto_diffusion_pipeline\n",
    "logging.disable_progress_bar() # Or else your output will be full of progress bars\n",
    "logging.set_verbosity_error() # Enable again if you are having problems\n",
    "pipe = auto_diffusion_pipeline(\"stabilityai/sdxl-turbo\")\n",
    "pipe.set_progress_bar_config(disable=True)"
   ],
   "metadata": {
    "collapsed": false,
    "ExecuteTime": {
     "end_time": "2024-01-07T06:35:27.136141Z",
     "start_time": "2024-01-07T06:35:14.055281Z"
    }
   },
   "id": "2f2adb778c9e1c0f"
  },
  {
   "cell_type": "code",
   "execution_count": null,
   "id": "initial_id",
   "metadata": {
    "collapsed": true,
    "is_executing": true,
    "ExecuteTime": {
     "start_time": "2024-01-07T06:35:27.136496Z"
    }
   },
   "outputs": [
    {
     "name": "stdout",
     "output_type": "stream",
     "text": [
      "Model loaded successfully.\n"
     ]
    }
   ],
   "source": [
    "from evolutionary.prompt_encoding.image_creation import SDXLPromptEncodingImageCreator\n",
    "from evolutionary.prompt_encoding.variation import PooledArithmeticCrossover, PooledUniformGaussianMutator, UniformGaussianMutatorArguments\n",
    "from evolutionary.selectors import TournamentSelector\n",
    "from evolutionary.algorithms.ga import GeneticAlgorithm\n",
    "from evolutionary.image_evaluators import AestheticsImageEvaluator  \n",
    "\n",
    "population_size = 10\n",
    "num_generations = 100 \n",
    "\n",
    "# Create the necessary components for the genetic algorithm\n",
    "creator = SDXLPromptEncodingImageCreator(pipeline=pipe, batch_size=2, inference_steps=3)\n",
    "evaluator = AestheticsImageEvaluator()  \n",
    "crossover = PooledArithmeticCrossover(crossover_rate=0.5, crossover_rate_pooled=0.5)\n",
    "mutation_arguments = UniformGaussianMutatorArguments(mutation_rate=0.1, mutation_strength=0.5, clamp_range=(-30, 30))\n",
    "mutator = PooledUniformGaussianMutator(mutation_arguments, mutation_arguments)\n",
    "selector = TournamentSelector(tournament_size=3)\n",
    "\n",
    "# Prepare initial arguments\n",
    "init_args = [creator.arguments_from_prompt(f\"test cat {i}\") for i in range(population_size)]\n",
    "\n",
    "# Create and run the genetic algorithm\n",
    "ga = GeneticAlgorithm(\n",
    "    solution_creator=creator,\n",
    "    evaluator=evaluator,\n",
    "    mutator=mutator,\n",
    "    crossover=crossover,\n",
    "    selector=selector,\n",
    "    population_size=population_size,\n",
    "    num_generations=num_generations,\n",
    "    initial_arguments=init_args,\n",
    "    elitism_count=1,\n",
    "    post_evaluation_callback=save_images_from_generation\n",
    ")\n",
    "\n",
    "best_solution = ga.run()\n",
    "print(best_solution.fitness)\n",
    "best_solution.result.images[0]"
   ]
  },
  {
   "cell_type": "code",
   "execution_count": null,
   "outputs": [],
   "source": [
    "for gen in range(num_generations):\n",
    "    create_generation_image_grid(gen)"
   ],
   "metadata": {
    "collapsed": false,
    "is_executing": true
   },
   "id": "654d29c0a9adc5ea"
  },
  {
   "cell_type": "code",
   "execution_count": null,
   "outputs": [],
   "source": [
    "create_animation_from_generations(num_generations)"
   ],
   "metadata": {
    "collapsed": false,
    "is_executing": true
   },
   "id": "c0bc3e27bc037fc5"
  },
  {
   "cell_type": "markdown",
   "source": [
    "![Animation Result](results/ga_evolution.gif)"
   ],
   "metadata": {
    "collapsed": false
   },
   "id": "7cd4cbdd659e91b5"
  },
  {
   "cell_type": "code",
   "execution_count": null,
   "outputs": [],
   "source": [
    "\n",
    "print(ga.best_fitness)\n",
    "plot_fitness_statistics(ga)"
   ],
   "metadata": {
    "collapsed": false,
    "is_executing": true
   },
   "id": "28353cd43d9b4f6b"
  },
  {
   "cell_type": "markdown",
   "source": [
    "## Saving a runs data to JSON"
   ],
   "metadata": {
    "collapsed": false
   },
   "id": "96272a4cb52c31f0"
  },
  {
   "cell_type": "code",
   "execution_count": 22,
   "outputs": [],
   "source": [
    "# todo"
   ],
   "metadata": {
    "collapsed": false,
    "ExecuteTime": {
     "end_time": "2024-01-07T06:34:34.097113Z",
     "start_time": "2024-01-07T06:34:34.053448Z"
    }
   },
   "id": "15a9efac1be5b6ff"
  }
 ],
 "metadata": {
  "kernelspec": {
   "display_name": "Python 3",
   "language": "python",
   "name": "python3"
  },
  "language_info": {
   "codemirror_mode": {
    "name": "ipython",
    "version": 2
   },
   "file_extension": ".py",
   "mimetype": "text/x-python",
   "name": "python",
   "nbconvert_exporter": "python",
   "pygments_lexer": "ipython2",
   "version": "2.7.6"
  }
 },
 "nbformat": 4,
 "nbformat_minor": 5
}
