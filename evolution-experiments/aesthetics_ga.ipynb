{
 "cells": [
  {
   "cell_type": "code",
   "execution_count": null,
   "outputs": [],
   "source": [
    "import os\n",
    "import uuid\n",
    "from typing import List\n",
    "from evolutionary.evolution_base import SolutionCandidate\n",
    "\n",
    "\n",
    "def save_images_from_generation(population: List[SolutionCandidate], generation: int):\n",
    "    # Create a directory for the current generation\n",
    "    generation_dir = f\"generation_{generation}\"\n",
    "    os.makedirs(generation_dir, exist_ok=True)\n",
    "\n",
    "    for candidate in population:\n",
    "        image_solution_data = candidate.result  \n",
    "\n",
    "        # Save each image in the solution\n",
    "        for image in image_solution_data.images:\n",
    "            image_name = f\"{uuid.uuid4()}.png\"  # Unique image name\n",
    "            image_path = os.path.join(generation_dir, image_name)\n",
    "            image.save(image_path)"
   ],
   "metadata": {
    "collapsed": false
   },
   "id": "72e216fd5c2b33c9"
  },
  {
   "cell_type": "code",
   "execution_count": 4,
   "outputs": [],
   "source": [
    "from model_helpers.auto_pipeline import auto_diffusion_pipeline\n",
    "pipe = auto_diffusion_pipeline(\"stabilityai/sdxl-turbo\")"
   ],
   "metadata": {
    "collapsed": false,
    "ExecuteTime": {
     "end_time": "2024-01-07T01:09:11.220302Z",
     "start_time": "2024-01-07T01:09:11.217429Z"
    }
   },
   "id": "2f2adb778c9e1c0f"
  },
  {
   "cell_type": "code",
   "execution_count": 6,
   "id": "initial_id",
   "metadata": {
    "collapsed": true,
    "ExecuteTime": {
     "end_time": "2024-01-07T01:13:05.577345Z",
     "start_time": "2024-01-07T01:12:33.779579Z"
    }
   },
   "outputs": [
    {
     "name": "stderr",
     "output_type": "stream",
     "text": [
      "Keyword arguments {'safety_checker': None, 'requires_safety_checker': False} are not expected by StableDiffusionXLPipeline and will be ignored.\n"
     ]
    },
    {
     "data": {
      "text/plain": "Loading pipeline components...:   0%|          | 0/7 [00:00<?, ?it/s]",
      "application/vnd.jupyter.widget-view+json": {
       "version_major": 2,
       "version_minor": 0,
       "model_id": "e5876bce3ba24993a756c9672a3e852e"
      }
     },
     "metadata": {},
     "output_type": "display_data"
    },
    {
     "name": "stdout",
     "output_type": "stream",
     "text": [
      "Loaded StableDiffusionXLPipeline {\n",
      "  \"_class_name\": \"StableDiffusionXLPipeline\",\n",
      "  \"_diffusers_version\": \"0.25.0\",\n",
      "  \"_name_or_path\": \"stabilityai/sdxl-turbo\",\n",
      "  \"feature_extractor\": [\n",
      "    null,\n",
      "    null\n",
      "  ],\n",
      "  \"force_zeros_for_empty_prompt\": true,\n",
      "  \"image_encoder\": [\n",
      "    null,\n",
      "    null\n",
      "  ],\n",
      "  \"scheduler\": [\n",
      "    \"diffusers\",\n",
      "    \"EulerAncestralDiscreteScheduler\"\n",
      "  ],\n",
      "  \"text_encoder\": [\n",
      "    \"transformers\",\n",
      "    \"CLIPTextModel\"\n",
      "  ],\n",
      "  \"text_encoder_2\": [\n",
      "    \"transformers\",\n",
      "    \"CLIPTextModelWithProjection\"\n",
      "  ],\n",
      "  \"tokenizer\": [\n",
      "    \"transformers\",\n",
      "    \"CLIPTokenizer\"\n",
      "  ],\n",
      "  \"tokenizer_2\": [\n",
      "    \"transformers\",\n",
      "    \"CLIPTokenizer\"\n",
      "  ],\n",
      "  \"unet\": [\n",
      "    \"diffusers\",\n",
      "    \"UNet2DConditionModel\"\n",
      "  ],\n",
      "  \"vae\": [\n",
      "    \"diffusers\",\n",
      "    \"AutoencoderKL\"\n",
      "  ]\n",
      "}\n",
      "<evolutionary.prompt_encoding.argument_types.PooledPromptEmbedData object at 0x2a1369450>\n"
     ]
    },
    {
     "data": {
      "text/plain": "  0%|          | 0/3 [00:00<?, ?it/s]",
      "application/vnd.jupyter.widget-view+json": {
       "version_major": 2,
       "version_minor": 0,
       "model_id": "66bcd01d03b44dfe8d7f408f485af409"
      }
     },
     "metadata": {},
     "output_type": "display_data"
    },
    {
     "ename": "TypeError",
     "evalue": "unsupported operand type(s) for +: 'PooledPromptEmbedData' and 'str'",
     "output_type": "error",
     "traceback": [
      "\u001B[0;31m---------------------------------------------------------------------------\u001B[0m",
      "\u001B[0;31mTypeError\u001B[0m                                 Traceback (most recent call last)",
      "Cell \u001B[0;32mIn[6], line 9\u001B[0m\n\u001B[1;32m      7\u001B[0m res \u001B[38;5;241m=\u001B[39m creator\u001B[38;5;241m.\u001B[39mcreate_solution(args)\n\u001B[1;32m      8\u001B[0m res\u001B[38;5;241m.\u001B[39mresult\u001B[38;5;241m.\u001B[39mimages[\u001B[38;5;241m0\u001B[39m]\u001B[38;5;241m.\u001B[39mshow()\n\u001B[0;32m----> 9\u001B[0m res \u001B[38;5;241m=\u001B[39m creator\u001B[38;5;241m.\u001B[39mcreate_solution(\u001B[43margs\u001B[49m\u001B[43m \u001B[49m\u001B[38;5;241;43m+\u001B[39;49m\u001B[43m \u001B[49m\u001B[38;5;124;43m\"\u001B[39;49m\u001B[38;5;124;43m oida\u001B[39;49m\u001B[38;5;124;43m\"\u001B[39;49m)\n\u001B[1;32m     10\u001B[0m res\u001B[38;5;241m.\u001B[39mresult\u001B[38;5;241m.\u001B[39mimages[\u001B[38;5;241m0\u001B[39m]\u001B[38;5;241m.\u001B[39mshow()\n",
      "\u001B[0;31mTypeError\u001B[0m: unsupported operand type(s) for +: 'PooledPromptEmbedData' and 'str'"
     ]
    }
   ],
   "source": [
    "from evolutionary.prompt_encoding.image_creation import SDXLPromptEncodingImageCreator\n",
    "from evolutionary.prompt_encoding.variation import PooledArithmeticCrossover, PooledUniformGaussianMutator, UniformGaussianMutatorArguments\n",
    "from evolutionary.selectors import TournamentSelector\n",
    "from evolutionary.algorithms.simple_genetic import GeneticAlgorithm\n",
    "from evolutionary.image_evaluators import AestheticsImageEvaluator  \n",
    "\n",
    "population_size = 10\n",
    "num_generations = 50  \n",
    "\n",
    "# Create the necessary components for the genetic algorithm\n",
    "creator = SDXLPromptEncodingImageCreator(pipeline=pipe, batch_size=2, inference_steps=3)\n",
    "evaluator = AestheticsImageEvaluator()  \n",
    "crossover = PooledArithmeticCrossover(crossover_rate=0.5, crossover_rate_pooled=0.5)\n",
    "mutation_arguments = UniformGaussianMutatorArguments(mutation_rate=0.1,  mutation_strength=0.5, clamp_range=(-20, 20))\n",
    "mutator = PooledUniformGaussianMutator(mutation_arguments, mutation_arguments)\n",
    "selector = TournamentSelector(tournament_size=3)\n",
    "\n",
    "# Prepare initial arguments\n",
    "init_args = [creator.arguments_from_prompt(f\"test cat {i}\") for i in range(population_size)]\n",
    "\n",
    "# Create and run the genetic algorithm\n",
    "ga = GeneticAlgorithm(\n",
    "    solution_creator=creator,\n",
    "    evaluator=evaluator,\n",
    "    mutator=mutator,\n",
    "    crossover=crossover,\n",
    "    selector=selector,\n",
    "    population_size=population_size,\n",
    "    num_generations=num_generations,\n",
    "    initial_arguments=init_args\n",
    ")\n",
    "\n",
    "best_solution = ga.run()"
   ]
  },
  {
   "cell_type": "code",
   "execution_count": null,
   "outputs": [],
   "source": [],
   "metadata": {
    "collapsed": false
   },
   "id": "654d29c0a9adc5ea"
  }
 ],
 "metadata": {
  "kernelspec": {
   "display_name": "Python 3",
   "language": "python",
   "name": "python3"
  },
  "language_info": {
   "codemirror_mode": {
    "name": "ipython",
    "version": 2
   },
   "file_extension": ".py",
   "mimetype": "text/x-python",
   "name": "python",
   "nbconvert_exporter": "python",
   "pygments_lexer": "ipython2",
   "version": "2.7.6"
  }
 },
 "nbformat": 4,
 "nbformat_minor": 5
}
