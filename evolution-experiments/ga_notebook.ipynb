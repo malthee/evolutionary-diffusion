{
 "cells": [
  {
   "cell_type": "markdown",
   "source": [
    "# Template Notebook for testing Genetic Algorithms exploring the prompt embedding latent space"
   ],
   "metadata": {
    "collapsed": false
   },
   "id": "8c0bdb332e586951"
  },
  {
   "cell_type": "code",
   "execution_count": null,
   "outputs": [],
   "source": [
    "from evolutionary.plotting import plot_fitness_statistics\n",
    "from model_helpers.auto_pipeline import auto_diffusion_pipeline\n",
    "from diffusers.utils import logging\n",
    "from evolutionary.image_processing import create_animation_from_generations, create_generation_image_grid, save_images_from_generation"
   ],
   "metadata": {
    "collapsed": false
   },
   "id": "72e216fd5c2b33c9"
  },
  {
   "cell_type": "code",
   "execution_count": null,
   "outputs": [],
   "source": [
    "# These are diverse prompts that can be used to generate the initial population\n",
    "prompts = [\n",
    "    \"Futuristic cityscape under a dual sunset\",\n",
    "    \"Surreal garden with glow-in-the-dark plants\",\n",
    "    \"Underwater scene featuring a coral-built city\",\n",
    "    \"Robot and medieval knight engaged in a chess match\",\n",
    "    \"Portrait composed entirely of musical instruments\",\n",
    "    \"Bustling Martian market scene\",\n",
    "    \"Giant tree hosting houses and shops on its branches\",\n",
    "    \"Abstract representation embodying the concept of time\",\n",
    "    \"Village with all glass-made houses\",\n",
    "    \"Victorian city populated by steampunk animals\",\n",
    "    \"Floating books replacing shelves in a library\",\n",
    "    \"Desert landscape with blue sand and purple cacti\",\n",
    "    \"Modern city blending ancient Roman architectural styles\",\n",
    "    \"Fantasy world map with inverted land and sky\",\n",
    "    \"Post-apocalyptic nature reclaiming an urban landscape\",\n",
    "    \"Moon's surface featuring an ice cream truck\",\n",
    "    \"Sky parade with floating ships\",\n",
    "    \"Regal portrait of a cat in 18th-century monarch attire\",\n",
    "    \"Dolphins swimming through cloud formations\",\n",
    "    \"Egyptian pyramids merged with futuristic tech\",\n",
    "    \"Mystical forest illuminated by bioluminescent flora and fauna\",\n",
    "    \"Underwater jazz concert spectacle\",\n",
    "    \"Storm painting crafted from various musical instruments\",\n",
    "    \"Chessboard with miniature city pieces\",\n",
    "    \"Surreal transition of books into birds\",\n",
    "    \"Secret village nestled inside a volcano\",\n",
    "    \"Computer interior reimagined as an urban landscape\",\n",
    "    \"Amusement park themed around candy delights\",\n",
    "    \"Space-bound art gallery\",\n",
    "    \"Cyberpunk twist on the Renaissance era\",\n",
    "    \"Crystal-based plant life in a garden setting\",\n",
    "    \"Ancient civilization thriving on an alien planet\",\n",
    "    \"Wildlife and urban landscapes in a harmonious blend\",\n",
    "    \"Single landscape depicting all four seasons\",\n",
    "    \"Pirate and flying shark battle scene\",\n",
    "    \"Utopian society concept floating on a cloud\",\n",
    "    \"Fantasy scene where shadows are colorful\",\n",
    "    \"Water-constructed buildings in a city\",\n",
    "    \"Futuristic tech hidden within an ancient temple\",\n",
    "    \"Giant book with each page being a different world\",\n",
    "    \"Ocean and sky swapping places in a landscape\",\n",
    "    \"Renaissance noble portrait of an alien\",\n",
    "    \"Tree growing miniature cities as fruits\",\n",
    "    \"Mountain range resembling sleeping dragons\",\n",
    "    \"Market specializing in bottled dreams\",\n",
    "    \"Concert uniting classical musicians with rock stars\",\n",
    "    \"Planetary landscape with visible ringed sky\",\n",
    "    \"Cityscape showcasing buildings from various historical eras\",\n",
    "    \"Watercolor-animated animals in a surreal setting\",\n",
    "    \"Ancient ruins interspersed with holographic projections\",\n",
    "    'Abandoned amusement park overrun by nature, with rides encased in vines',\n",
    "    'High-speed chase between hover cars in a neon-lit megastructure',\n",
    "    'Interstellar zoo featuring cosmic beasts from different galaxies',\n",
    "    'Subterranean city lit by bioluminescent fungi and crystals',\n",
    "    'Aerial view of a city where roads and canals are intertwined',\n",
    "    'Dystopian world where giant screens display the only source of sunlight',\n",
    "    'Ice castle on a cloud, accessible only by flying creatures',\n",
    "    'Surreal dreamscape with floating islands connected by rope bridges',\n",
    "    'Wasteland with a lone, vibrant tree sheltering a myriad of species',\n",
    "    'Steampunk laboratory with intricate machinery powered by steam',\n",
    "    'Galactic fair with aliens trading stars and comets',\n",
    "    'A library where each book opens a portal to another universe',\n",
    "    'Renaissance fair in a futuristic setting, blending past and future',\n",
    "    'Garden maze made of mirrors reflecting infinite skies',\n",
    "    'Night market selling potions and charms under a bioluminescent moon',\n",
    "    'Arctic village on the back of a giant, wandering polar bear',\n",
    "    'Volcanic eruption revealing an ancient, untouched civilization',\n",
    "    'Opera house where the performers are ghosts, singing untold histories',\n",
    "    'Time-frozen battlefield with statuesque soldiers from different eras',\n",
    "    'Oceanic abyss where shipwrecks form the architecture of an underwater city',\n",
    "    'Skyline where each building is a musical instrument, playing in the wind',\n",
    "    'Circus train traveling through dimensional portals, showcasing interdimensional acts',\n",
    "    'Haunted mansion where each room leads to a different point in time',\n",
    "    'Festival of lights where the sky is filled with glowing kites at night',\n",
    "    'Underground network of caves filled with ancient, mechanical beasts',\n",
    "    'A clockwork universe where planets are interconnected gears',\n",
    "    'Enchanted forest with trees that whisper secrets of the universe',\n",
    "    'City where gravity shifts, allowing for multidimensional architecture',\n",
    "    'A dystopian society where memories are currency',\n",
    "    'Rainbow waterfall cascading into a hidden elfin city',\n",
    "    'Battlefield of chess with live mythical creatures as pieces',\n",
    "    'A colony on a comet, farming stardust',\n",
    "    'Post-apocalyptic world where technology is powered by magic',\n",
    "    'Snow globe village that experiences eternal winter',\n",
    "    'Grand canyon filled with skyscraper-sized totem poles',\n",
    "    'A world where shadows tell different stories than their objects',\n",
    "    'Museum of extinct species, with lifelike holograms',\n",
    "    'A city built inside the ribcage of a giant creature',\n",
    "    'A festival where balloons carry entire houses into the sky',\n",
    "    'A secret society meeting in the catacombs beneath an ancient city',\n",
    "    'A desert oasis that is actually a mirage hiding an advanced civilization',\n",
    "    'An island where every grain of sand is a different color',\n",
    "    'A palace made entirely of reflective obsidian, showing infinite reflections',\n",
    "    'A space elevator connecting Earth to a space station in geostationary orbit',\n",
    "    'A train that travels through the center of the Earth',\n",
    "    'An ancient library buried under the desert, guarded by sphinxes',\n",
    "    'A city built on the back of a giant, wandering tortoise',\n",
    "    'A space colony on Jupiter’s moon, Europa, under the ice',\n",
    "    'An art gallery where the paintings come to life at night',\n",
    "    'A world where plants are the dominant species, and cities are alive'\n",
    "]\n",
    "\n",
    "print(len(prompts)) # Should be at least as big as the population size"
   ],
   "metadata": {
    "collapsed": false
   },
   "id": "63f8c9dc062241d3"
  },
  {
   "cell_type": "code",
   "execution_count": null,
   "outputs": [],
   "source": [
    "logging.disable_progress_bar() # Or else your output will be full of progress bars\n",
    "logging.set_verbosity_error() # Enable again if you are having problems\n",
    "\n",
    "# Factory for loading the DiffusionPipeline from the HuggingFace Hub\n",
    "def setup_pipeline():\n",
    "    pipe = auto_diffusion_pipeline(\"stabilityai/sd-turbo\") # This has to be compatible with the ImageCreator\n",
    "    pipe.set_progress_bar_config(disable=True)\n",
    "    return pipe\n",
    "\n",
    "def save_images_post_evaluation(g, a):\n",
    "    save_images_from_generation(a.population, g)"
   ],
   "metadata": {
    "collapsed": false
   },
   "id": "2f2adb778c9e1c0f"
  },
  {
   "cell_type": "code",
   "execution_count": null,
   "id": "initial_id",
   "metadata": {
    "collapsed": true
   },
   "outputs": [],
   "source": [
    "from evolutionary.prompt_encoding.image_creation import SDPromptEmbeddingImageCreator\n",
    "from evolutionary.prompt_encoding.variation import \\\n",
    "    UniformGaussianMutatorArguments, UniformGaussianMutator, ArithmeticCrossover\n",
    "from evolutionary.selectors import TournamentSelector\n",
    "from evolutionary.algorithms.ga import GeneticAlgorithm\n",
    "from evolutionary.image_evaluators import AestheticsImageEvaluator\n",
    "\n",
    "population_size = 100\n",
    "num_generations = 200\n",
    "batch_size = 1\n",
    "elitism = 1\n",
    "inference_steps = 3\n",
    "\n",
    "# Create the necessary components for the genetic algorithm\n",
    "creator = SDPromptEmbeddingImageCreator(pipeline_factory=setup_pipeline, batch_size=batch_size, inference_steps=inference_steps)\n",
    "evaluator = AestheticsImageEvaluator() \n",
    "crossover = ArithmeticCrossover(0.5)\n",
    "# clamp_range was evaluated with pre-testing/clamp_range/sd_turbo.py\n",
    "mutation_arguments = UniformGaussianMutatorArguments(mutation_rate=0.1, mutation_strength=0.5, clamp_range=(-10.3, 15.65)) \n",
    "mutator = UniformGaussianMutator(mutation_arguments)\n",
    "selector = TournamentSelector(tournament_size=3)\n",
    "\n",
    "# Prepare initial arguments\n",
    "init_args = [creator.arguments_from_prompt(prompts[i]) for i in range(population_size)]\n",
    "\n",
    "# Create and run the genetic algorithm\n",
    "ga = GeneticAlgorithm(\n",
    "    population_size=population_size,\n",
    "    num_generations=num_generations,\n",
    "    solution_creator=creator,\n",
    "    evaluator=evaluator,\n",
    "    mutator=mutator,\n",
    "    crossover=crossover,\n",
    "    selector=selector,\n",
    "    initial_arguments=init_args,\n",
    "    elitism_count=elitism,\n",
    "    post_evaluation_callback=save_images_post_evaluation,\n",
    ")"
   ]
  },
  {
   "cell_type": "code",
   "execution_count": null,
   "outputs": [],
   "source": [
    "best_solution = ga.run()"
   ],
   "metadata": {
    "collapsed": false
   },
   "id": "935da12fdef0f9e6"
  },
  {
   "cell_type": "code",
   "execution_count": null,
   "outputs": [],
   "source": [
    "from diffusers.utils import make_image_grid\n",
    "\n",
    "# Show best solution\n",
    "print(best_solution.fitness)\n",
    "make_image_grid(best_solution.result.images, 1, batch_size)"
   ],
   "metadata": {
    "collapsed": false
   },
   "id": "138e75cca37887ee"
  },
  {
   "cell_type": "markdown",
   "source": [
    "## Visualize the evolution"
   ],
   "metadata": {
    "collapsed": false
   },
   "id": "24ec401b70d26330"
  },
  {
   "cell_type": "code",
   "execution_count": null,
   "outputs": [],
   "source": [
    "for gen in range(num_generations):\n",
    "    create_generation_image_grid(gen, max_images=10)"
   ],
   "metadata": {
    "collapsed": false
   },
   "id": "654d29c0a9adc5ea"
  },
  {
   "cell_type": "code",
   "execution_count": null,
   "outputs": [],
   "source": [
    "video_loc = create_animation_from_generations(num_generations)\n",
    "print(video_loc)\n",
    "from IPython.display import Video\n",
    "Video(filename=video_loc) # This does not work for all browsers/notebooks, set embed to true when you want to include it in the notebook (warning large file size)"
   ],
   "metadata": {
    "collapsed": false
   },
   "id": "c0bc3e27bc037fc5"
  },
  {
   "cell_type": "markdown",
   "source": [
    "## Plot fitness statistics"
   ],
   "metadata": {
    "collapsed": false
   },
   "id": "e7710ea6363c8fc2"
  },
  {
   "cell_type": "code",
   "execution_count": null,
   "outputs": [],
   "source": [
    "plot_fitness_statistics(num_generations, ga.best_fitness, ga.worst_fitness, ga.avg_fitness)"
   ],
   "metadata": {
    "collapsed": false
   },
   "id": "28353cd43d9b4f6b"
  },
  {
   "cell_type": "markdown",
   "source": [
    "## Save notebook and components"
   ],
   "metadata": {
    "collapsed": false
   },
   "id": "b2195933152aec9b"
  },
  {
   "cell_type": "code",
   "execution_count": null,
   "outputs": [],
   "source": [
    "!jupyter nbconvert --to html ga_notebook.ipynb"
   ],
   "metadata": {
    "collapsed": false
   },
   "id": "cb6427ad0fe12f61"
  },
  {
   "cell_type": "markdown",
   "source": [
    "### Save the run to disk"
   ],
   "metadata": {
    "collapsed": false
   },
   "id": "1a0f4fb91ee79569"
  },
  {
   "cell_type": "code",
   "execution_count": null,
   "outputs": [],
   "source": [
    "import pickle\n",
    "import os\n",
    "from datetime import datetime\n",
    "\n",
    "os.makedirs(\"saved_runs\", exist_ok=True)\n",
    "with open(os.path.join(\"saved_runs\", f\"ga{datetime.now().strftime('%Y-%m-%d_%H-%M-%S')}.pkl\"), \"wb\") as f:\n",
    "    pickle.dump(ga, f) "
   ],
   "metadata": {
    "collapsed": false
   },
   "id": "c3e2e39f5fca76da"
  },
  {
   "cell_type": "markdown",
   "source": [
    "## Fallback functions for when something went wrong"
   ],
   "metadata": {
    "collapsed": false
   },
   "id": "4550d830b1b47e1a"
  },
  {
   "cell_type": "markdown",
   "source": [
    "### Access Best Solution from Disk"
   ],
   "metadata": {
    "collapsed": false
   },
   "id": "6a9063073a48997c"
  },
  {
   "cell_type": "code",
   "execution_count": null,
   "outputs": [],
   "source": [
    "import os\n",
    "import glob\n",
    "import evolutionary.image_processing as ip\n",
    "from PIL import Image\n",
    "\n",
    "num_generations = 42  # Set this to the number of generations you ran (if you didn't finish)\n",
    "generation_dir = os.path.join(ip.RESULTS_FOLDER, f\"{num_generations}\")\n",
    "image_files = glob.glob(os.path.join(generation_dir, \"*.png\"))\n",
    "image_files.sort(key=ip.fitness_filename_sorting_key, reverse=True)\n",
    "print(image_files[0])\n",
    "Image.open(image_files[0])"
   ],
   "metadata": {
    "collapsed": false
   },
   "id": "5f775720f03f3e5a"
  },
  {
   "cell_type": "markdown",
   "source": [
    "### ffmpeg is not installed, create GIF instead"
   ],
   "metadata": {
    "collapsed": false
   },
   "id": "2b003d9c4275cfca"
  },
  {
   "cell_type": "code",
   "execution_count": null,
   "outputs": [],
   "source": [
    "from evolutionary.image_processing import create_animation_from_generations_pil\n",
    "video_loc = create_animation_from_generations_pil(num_generations)\n",
    "print(video_loc)\n",
    "from IPython.display import Video\n",
    "Video(filename=video_loc) "
   ],
   "metadata": {
    "collapsed": false
   },
   "id": "63df46f328facfc9"
  }
 ],
 "metadata": {
  "kernelspec": {
   "display_name": "Python 3",
   "language": "python",
   "name": "python3"
  },
  "language_info": {
   "codemirror_mode": {
    "name": "ipython",
    "version": 2
   },
   "file_extension": ".py",
   "mimetype": "text/x-python",
   "name": "python",
   "nbconvert_exporter": "python",
   "pygments_lexer": "ipython2",
   "version": "2.7.6"
  }
 },
 "nbformat": 4,
 "nbformat_minor": 5
}
