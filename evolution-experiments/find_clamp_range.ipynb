{
 "cells": [
  {
   "cell_type": "markdown",
   "source": [
    "# Finding a reasonable CLAMP range for exploring the prompt embedding space\n",
    "Using the diverse parti prompts v2 (1,6k entires) to explore the range of values for prompt embeddings. "
   ],
   "metadata": {
    "collapsed": false
   },
   "id": "7889ddecfcb57765"
  },
  {
   "cell_type": "code",
   "execution_count": 1,
   "outputs": [],
   "source": [
    "from evolutionary.prompt_encoding.image_creation import SDXLPromptEmbeddingImageCreator\n",
    "from evolutionary.prompt_encoding.utils import clamp_range_from_parti\n",
    "from model_helpers.auto_pipeline import auto_diffusion_pipeline"
   ],
   "metadata": {
    "collapsed": false,
    "ExecuteTime": {
     "end_time": "2024-01-07T17:13:31.221016Z",
     "start_time": "2024-01-07T17:13:29.624963Z"
    }
   },
   "id": "c18d4cb96ff196ec"
  },
  {
   "cell_type": "code",
   "execution_count": 2,
   "outputs": [
    {
     "name": "stderr",
     "output_type": "stream",
     "text": [
      "Keyword arguments {'safety_checker': None, 'requires_safety_checker': False} are not expected by StableDiffusionXLPipeline and will be ignored.\n"
     ]
    },
    {
     "data": {
      "text/plain": "Loading pipeline components...:   0%|          | 0/7 [00:00<?, ?it/s]",
      "application/vnd.jupyter.widget-view+json": {
       "version_major": 2,
       "version_minor": 0,
       "model_id": "1be7d754f8584428bfc61b3c7b6d6a0f"
      }
     },
     "metadata": {},
     "output_type": "display_data"
    },
    {
     "name": "stdout",
     "output_type": "stream",
     "text": [
      "Loaded StableDiffusionXLPipeline {\n",
      "  \"_class_name\": \"StableDiffusionXLPipeline\",\n",
      "  \"_diffusers_version\": \"0.25.0\",\n",
      "  \"_name_or_path\": \"stabilityai/sdxl-turbo\",\n",
      "  \"feature_extractor\": [\n",
      "    null,\n",
      "    null\n",
      "  ],\n",
      "  \"force_zeros_for_empty_prompt\": true,\n",
      "  \"image_encoder\": [\n",
      "    null,\n",
      "    null\n",
      "  ],\n",
      "  \"scheduler\": [\n",
      "    \"diffusers\",\n",
      "    \"EulerAncestralDiscreteScheduler\"\n",
      "  ],\n",
      "  \"text_encoder\": [\n",
      "    \"transformers\",\n",
      "    \"CLIPTextModel\"\n",
      "  ],\n",
      "  \"text_encoder_2\": [\n",
      "    \"transformers\",\n",
      "    \"CLIPTextModelWithProjection\"\n",
      "  ],\n",
      "  \"tokenizer\": [\n",
      "    \"transformers\",\n",
      "    \"CLIPTokenizer\"\n",
      "  ],\n",
      "  \"tokenizer_2\": [\n",
      "    \"transformers\",\n",
      "    \"CLIPTokenizer\"\n",
      "  ],\n",
      "  \"unet\": [\n",
      "    \"diffusers\",\n",
      "    \"UNet2DConditionModel\"\n",
      "  ],\n",
      "  \"vae\": [\n",
      "    \"diffusers\",\n",
      "    \"AutoencoderKL\"\n",
      "  ]\n",
      "}\n"
     ]
    }
   ],
   "source": [
    "pipe = auto_diffusion_pipeline(\"stabilityai/sdxl-turbo\")\n",
    "pipe.set_progress_bar_config(disable=True)"
   ],
   "metadata": {
    "collapsed": false,
    "ExecuteTime": {
     "end_time": "2024-01-07T17:13:44.915684Z",
     "start_time": "2024-01-07T17:13:31.221776Z"
    }
   },
   "id": "bd6a00facc2aa847"
  },
  {
   "cell_type": "code",
   "execution_count": 3,
   "id": "initial_id",
   "metadata": {
    "collapsed": true,
    "ExecuteTime": {
     "end_time": "2024-01-07T17:16:46.272145Z",
     "start_time": "2024-01-07T17:13:44.915365Z"
    }
   },
   "outputs": [
    {
     "name": "stderr",
     "output_type": "stream",
     "text": [
      "Token indices sequence length is longer than the specified maximum sequence length for this model (84 > 77). Running this sequence through the model will result in indexing errors\n",
      "Token indices sequence length is longer than the specified maximum sequence length for this model (84 > 77). Running this sequence through the model will result in indexing errors\n"
     ]
    },
    {
     "name": "stdout",
     "output_type": "stream",
     "text": [
      "The following part of your input was truncated because CLIP can only handle sequences up to 77 tokens: ['as a beacon over rolling blue hills']\n",
      "The following part of your input was truncated because CLIP can only handle sequences up to 77 tokens: ['as a beacon over rolling blue hills']\n",
      "The following part of your input was truncated because CLIP can only handle sequences up to 77 tokens: ['as a beacon over rolling blue hills']\n",
      "The following part of your input was truncated because CLIP can only handle sequences up to 77 tokens: ['as a beacon over rolling blue hills']\n",
      "Range for prompt_embeds:  (-809.0, 854.5)\n",
      "Range for pooled_prompt_embeds:  (-8.0625, 7.8828125)\n"
     ]
    }
   ],
   "source": [
    "creator = SDXLPromptEmbeddingImageCreator(pipeline=pipe, batch_size=1, inference_steps=1)\n",
    "test1 = clamp_range_from_parti(creator, lambda_accessor=lambda x: x.prompt_embeds)\n",
    "test2 = clamp_range_from_parti(creator, lambda_accessor=lambda x: x.pooled_prompt_embeds)\n",
    "print(\"Range for prompt_embeds: \", test1)\n",
    "print(\"Range for pooled_prompt_embeds: \", test2)"
   ]
  },
  {
   "cell_type": "markdown",
   "source": [],
   "metadata": {
    "collapsed": false
   },
   "id": "706beba96d0e3c9c"
  },
  {
   "cell_type": "markdown",
   "source": [
    "For the SDXL-Turbo model the CLAMP range for prompt_embeds is around (-810, 860) and for pooled_prompt_embeds it is around (-8, 8).\n",
    "Keep in mind you can extend the values, but this restricts the search space to a reasonable range."
   ],
   "metadata": {
    "collapsed": false
   },
   "id": "7be8abc13dabcfcb"
  },
  {
   "cell_type": "code",
   "execution_count": null,
   "outputs": [],
   "source": [],
   "metadata": {
    "collapsed": false
   },
   "id": "ba2996171d35dd82"
  }
 ],
 "metadata": {
  "kernelspec": {
   "display_name": "Python 3",
   "language": "python",
   "name": "python3"
  },
  "language_info": {
   "codemirror_mode": {
    "name": "ipython",
    "version": 2
   },
   "file_extension": ".py",
   "mimetype": "text/x-python",
   "name": "python",
   "nbconvert_exporter": "python",
   "pygments_lexer": "ipython2",
   "version": "2.7.6"
  }
 },
 "nbformat": 4,
 "nbformat_minor": 5
}
